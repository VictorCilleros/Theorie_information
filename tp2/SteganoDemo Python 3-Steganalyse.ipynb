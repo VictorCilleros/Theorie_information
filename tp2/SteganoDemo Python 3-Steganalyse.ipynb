{
 "cells": [
  {
   "attachments": {},
   "cell_type": "markdown",
   "metadata": {
    "hideCode": false,
    "hidePrompt": false
   },
   "source": [
    "# TP/Démo Stéganographie / Stéganalyse\n",
    "## Patrick Bas,  CNRS\n",
    "\n",
    "![](1024px-Centre_national_de_la_recherche_scientifique.svg.png)"
   ]
  },
  {
   "cell_type": "code",
   "execution_count": null,
   "metadata": {
    "hideCode": false,
    "hideOutput": true,
    "hidePrompt": false
   },
   "outputs": [],
   "source": [
    "# -*- coding: utf-8 -*-\n",
    "from PIL import Image\n",
    "import numpy as np\n",
    "import matplotlib.pyplot as plt\n",
    "import matplotlib.image as mpimg\n",
    "import random\n",
    "import string\n",
    "%matplotlib inline \n",
    "\n",
    "# Message to embedd\n",
    "#message = 'Les compétences de l’équipe SIGMA reposent sur des fondements solides en statistiques et en géométrie, ses membres s’intéressent aux objets mathématiques extraits de mesures physiques comme par exemple les images, la lumière polarisée, les sons, les vidéos ou encore les capteurs chimiques ou de turbulence. Ces signaux et leurs propriétés sont traités en utilisant le formalisme Bayésien, la théorie des fonctions de croyance, la géométrie de l’information ou la théorie de l’information. Avec pour dénominateur commun le traitement et la modélisation statistique des signaux, nos activités de recherche s’inscrivent dans les communautés relevant de l’inférence Bayésienne, de la théorie de la décision évidentielle, de l’imagerie polarimétrique ou de la sécurité de l’information. L’équipe SIGMA s’appuie également sur des relations fortes avec le master Décision et Analyse de Données de l’École Centrale Lille et l’option de traitement statistique du signal de Telecom-Lille.Illustrations de nos recherches : Inférence Bayésienne et méthodes de Monte-Carlo : suivi d’objets vidéo, modélisation inverse (remontée aux données sources), Fusion de données : prise de décision à partir d’un réseau de capteurs Sécurité de l’information : détection d’intrusion et de signaux faibles ; authentification automatique de documents imprimés, Imagerie polarimétrique : détection d’artefacts sur des matériaux.'\n",
    "\n",
    "message = 'CRIStAL (Centre de Recherche en Informatique, Signal et Automatique de Lille) est une unité mixte de recherche (UMR 9189) résultant de la fusion du LAGIS (Laboratoire d’Automatique, Génie Informatique et Signal - UMR 8219) et du LIFL (Laboratoire d’Informatique Fondamentale de Lille - UMR 8022) pour fédérer leurs compétences complémentaires en sciences de l’information. CRIStAL est né le 1er janvier 2015 sous la tutelle du CNRS, de l’Université Lille 1 et de l’Ecole Centrale de Lille en partenariat avec l’Université Lille 3, Inria et l’Institut Mines Telecom. CRIStAL est membre de l’institut de recherches interdisciplinaires IRCICA – USR CNRS 3380 (www.ircica.univ-lille1.fr). L’unité est composée de près de 430 membres (222 permanents et plus de 200 non permanents) dont 22 permanents CNRS et 27 permanents Inria. Les activités de recherche de CRIStAL concernent les thématiques liées aux grands enjeux scientifiques et sociétaux du moment tels que : BigData, logiciel, image et ses usages, interactions homme-machine, robotique, commande et supervision de grands systèmes, systèmes embarqués intelligents, bio-informatique… avec des applications notamment dans les secteurs de l’industrie du commerce, des technologies pour la santé, des smart grids.CRIStAL (Centre de Recherche en Informatique, Signal et Automatique de Lille) est une unité mixte de recherche (UMR 9189) résultant de la fusion du LAGIS (Laboratoire d’Automatique, Génie Informatique et Signal - UMR 8219) et du LIFL (Laboratoire d’Informatique Fondamentale de Lille - UMR 8022) pour fédérer leurs compétences complémentaires en sciences de l’information. CRIStAL est né le 1er janvier 2015 sous la tutelle du CNRS, de l’Université Lille 1 et de l’Ecole Centrale de Lille en partenariat avec l’Université Lille 3, Inria et l’Institut Mines Telecom. CRIStAL est membre de l’institut de recherches interdisciplinaires IRCICA – USR CNRS 3380 (www.ircica.univ-lille1.fr). L’unité est composée de près de 430 membres (222 permanents et plus de 200 non permanents) dont 22 permanents CNRS et 27 permanents Inria. Les activités de recherche de CRIStAL concernent les thématiques liées aux grands enjeux scientifiques et sociétaux du moment tels que : BigData, logiciel, image et ses usages, interactions homme-machine, robotique, commande et supervision de grands systèmes, systèmes embarqués intelligents, bio-informatique… avec des applications notamment dans les secteurs de l’industrie du commerce, des technologies pour la santé, des smart grids.CRIStAL (Centre de Recherche en Informatique, Signal et Automatique de Lille) est une unité mixte de recherche (UMR 9189) résultant de la fusion du LAGIS (Laboratoire d’Automatique, Génie Informatique et Signal - UMR 8219) et du LIFL (Laboratoire d’Informatique Fondamentale de Lille - UMR 8022) pour fédérer leurs compétences complémentaires en sciences de l’information. CRIStAL est né le 1er janvier 2015 sous la tutelle du CNRS, de l’Université Lille 1 et de l’Ecole Centrale de Lille en partenariat avec l’Université Lille 3, Inria et l’Institut Mines Telecom. CRIStAL est membre de l’institut de recherches interdisciplinaires IRCICA – USR CNRS 3380 (www.ircica.univ-lille1.fr). L’unité est composée de près de 430 membres (222 permanents et plus de 200 non permanents) dont 22 permanents CNRS et 27 permanents Inria. Les activités de recherche de CRIStAL concernent les thématiques liées aux grands enjeux scientifiques et sociétaux du moment tels que : BigData, logiciel, image et ses usages, interactions homme-machine, robotique, commande et supervision de grands systèmes, systèmes embarqués intelligents, bio-informatique… avec des applications notamment dans les secteurs de l’industrie du commerce, des technologies pour la santé, des smart grids.CRIStAL (Centre de Recherche en Informatique, Signal et Automatique de Lille) est une unité mixte de recherche (UMR 9189) résultant de la fusion du LAGIS (Laboratoire d’Automatique, Génie Informatique et Signal - UMR 8219) et du LIFL (Laboratoire d’Informatique Fondamentale de Lille - UMR 8022) pour fédérer leurs compétences complémentaires en sciences de l’information. CRIStAL est né le 1er janvier 2015 sous la tutelle du CNRS, de l’Université Lille 1 et de l’Ecole Centrale de Lille en partenariat avec l’Université Lille 3, Inria et l’Institut Mines Telecom. CRIStAL est membre de l’institut de recherches interdisciplinaires IRCICA – USR CNRS 3380 (www.ircica.univ-lille1.fr). L’unité est composée de près de 430 membres (222 permanents et plus de 200 non permanents) dont 22 permanents CNRS et 27 permanents Inria. Les activités de recherche de CRIStAL concernent les thématiques liées aux grands enjeux scientifiques et sociétaux du moment tels que : BigData, logiciel, image et ses usages, interactions homme-machine, robotique, commande et supervision de grands systèmes, systèmes embarqués intelligents, bio-informatique… avec des applications notamment dans les secteurs de l’industrie du commerce, des technologies pour la santé, des smart grids.CRIStAL (Centre de Recherche en Informatique, Signal et Automatique de Lille) est une unité mixte de recherche (UMR 9189) résultant de la fusion du LAGIS (Laboratoire d’Automatique, Génie Informatique et Signal - UMR 8219) et du LIFL (Laboratoire d’Informatique Fondamentale de Lille - UMR 8022) pour fédérer leurs compétences complémentaires en sciences de l’information. CRIStAL est né le 1er janvier 2015 sous la tutelle du CNRS, de l’Université Lille 1 et de l’Ecole Centrale de Lille en partenariat avec l’Université Lille 3, Inria et l’Institut Mines Telecom. CRIStAL est membre de l’institut de recherches interdisciplinaires IRCICA – USR CNRS 3380 (www.ircica.univ-lille1.fr). L’unité est composée de près de 430 membres (222 permanents et plus de 200 non permanents) dont 22 permanents CNRS et 27 permanents Inria. Les activités de recherche de CRIStAL concernent les thématiques liées aux grands enjeux scientifiques et sociétaux du moment tels que : BigData, logiciel, image et ses usages, interactions homme-machine, robotique, commande et supervision de grands systèmes, systèmes embarqués intelligents, bio-informatique… avec des applications notamment dans les secteurs de l’industrie du commerce, des technologies pour la santé, des smart grids.CRIStAL (Centre de Recherche en Informatique, Signal et Automatique de Lille) est une unité mixte de recherche (UMR 9189) résultant de la fusion du LAGIS (Laboratoire d’Automatique, Génie Informatique et Signal - UMR 8219) et du LIFL (Laboratoire d’Informatique Fondamentale de Lille - UMR 8022) pour fédérer leurs compétences complémentaires en sciences de l’information. CRIStAL est né le 1er janvier 2015 sous la tutelle du CNRS, de l’Université Lille 1 et de l’Ecole Centrale de Lille en partenariat avec l’Université Lille 3, Inria et l’Institut Mines Telecom. CRIStAL est membre de l’institut de recherches interdisciplinaires IRCICA – USR CNRS 3380 (www.ircica.univ-lille1.fr). L’unité est composée de près de 430 membres (222 permanents et plus de 200 non permanents) dont 22 permanents CNRS et 27 permanents Inria. Les activités de recherche de CRIStAL concernent les thématiques liées aux grands enjeux scientifiques et sociétaux du moment tels que : BigData, logiciel, image et ses usages, interactions homme-machine, robotique, commande et supervision de grands systèmes, systèmes embarqués intelligents, bio-informatique… avec des applications notamment dans les secteurs de l’industrie du commerce, des technologies pour la santé, des smart grids.'\n",
    "\n",
    "# Key \n",
    "key = 'azerty'\n",
    "\n",
    "print(message)"
   ]
  },
  {
   "cell_type": "markdown",
   "metadata": {
    "hideCode": false,
    "hidePrompt": false
   },
   "source": [
    "### Chargement de l'image COVER"
   ]
  },
  {
   "cell_type": "code",
   "execution_count": null,
   "metadata": {
    "hideCode": false,
    "hidePrompt": false
   },
   "outputs": [],
   "source": [
    "# Cover file\n",
    "image_path = './red_fish.png'\n",
    "# Stego file\n",
    "stego_path = './stego.png'\n",
    "\n",
    "# Open and show the figure\n",
    "pil_image = Image.open(image_path)\n",
    "im_array = np.asarray(pil_image)\n",
    "im_stego = np.copy(im_array)\n",
    "plt.figure(1,figsize=(10,10))\n",
    "plt.imshow(im_array)"
   ]
  },
  {
   "cell_type": "markdown",
   "metadata": {
    "hideCode": false,
    "hidePrompt": false
   },
   "source": [
    "### Affichage du message inséré (en bits)"
   ]
  },
  {
   "cell_type": "code",
   "execution_count": null,
   "metadata": {
    "hideCode": false,
    "hidePrompt": false
   },
   "outputs": [],
   "source": [
    "    \n",
    "\n",
    "# Convert the message to bits\n",
    "#message_unicode = unicode(message, \"utf-8\")\n",
    "\n",
    "message_unicode = str(message)\n",
    "#print(message_unicode)\n",
    "#bits = '{:b}'.format(int(message_unicode.encode('utf-8').encode('hex'), 16))\n",
    "\n",
    "#bits = ''.join(['{:b}'.format(ord(x)) for x in message_unicode.encode('utf-8')])\n",
    "\n",
    "bits  = bin(int.from_bytes(message.encode(), 'big'))\n",
    "\n",
    "bits = bits[2:]\n",
    "\n",
    "print('message inséré:')\n",
    "print(bits[:100])"
   ]
  },
  {
   "cell_type": "code",
   "execution_count": null,
   "metadata": {},
   "outputs": [],
   "source": [
    "bit_string  = bin(int.from_bytes(message.encode(), 'big'))\n",
    "print(bit_string[:10])\n",
    "n = int('0b'+bit_string[2:], 2)\n",
    "print(bit_string[:])\n",
    "n.to_bytes((n.bit_length() + 7) // 8, 'big').decode()"
   ]
  },
  {
   "cell_type": "code",
   "execution_count": null,
   "metadata": {
    "hideCode": false,
    "hidePrompt": false
   },
   "outputs": [],
   "source": [
    "# Convert the key to bits, then to an integer\n",
    "\n",
    "#key_unicode = unicode(key, \"utf-8\")\n",
    "#bits_key = '{:b}'.format(int(key_unicode.encode('utf-8').encode('hex'), 16))\n",
    "\n",
    "key_unicode = str(key)\n",
    "#bits_key = ''.join('{:08b}'.format(b) for b in key_unicode.encode('utf8'))\n",
    "\n",
    "\n",
    "#key_int = sum(map(lambda x: x[1]*(2**x[0]), enumerate(map(int, str(bits_key))[::-1])))   \n",
    "key_int = hash(key) #sum(map(lambda x: x[1]*(2**x[0]), enumerate(int(bits_key))[::-1]))   \n",
    "\n",
    " \n",
    "# Compute the message size\n",
    "nb_bits = len(bits)\n",
    "\n",
    "\n",
    "print('message size:' , nb_bits)"
   ]
  },
  {
   "cell_type": "markdown",
   "metadata": {
    "hideCode": false,
    "hidePrompt": false
   },
   "source": [
    "#### Récupération du canal bleu"
   ]
  },
  {
   "cell_type": "code",
   "execution_count": null,
   "metadata": {
    "hideCode": false,
    "hidePrompt": false
   },
   "outputs": [],
   "source": [
    "    \n",
    "# Get the blue channel\n",
    "blue_channel = im_array[:,:,2]\n",
    "w,h = blue_channel.shape\n",
    "blue_channel_vec = np.reshape(blue_channel,(w*h))\n",
    "\n",
    "# Print some pixels values\n",
    "print(blue_channel[:10,:10])\n",
    "\n",
    "plt.figure(1,figsize=(10,10))\n",
    "plt.imshow(blue_channel,cmap='Blues')"
   ]
  },
  {
   "cell_type": "markdown",
   "metadata": {
    "hideCode": false,
    "hidePrompt": false
   },
   "source": [
    "#### Permutation des pixels, dépendante de la clé"
   ]
  },
  {
   "cell_type": "code",
   "execution_count": null,
   "metadata": {
    "hideCode": false,
    "hidePrompt": false
   },
   "outputs": [],
   "source": [
    "# Perform a pseudo random permutation\n",
    "np.random.seed(np.mod(key_int,4294967295))\n",
    "index_perm = np.random.permutation(w*h)\n",
    "\n",
    "print(index_perm[:10])"
   ]
  },
  {
   "cell_type": "code",
   "execution_count": null,
   "metadata": {
    "hideCode": false,
    "hidePrompt": false
   },
   "outputs": [],
   "source": [
    "blue_perm = blue_channel_vec[index_perm]\n",
    "\n",
    "print(blue_perm[:100])"
   ]
  },
  {
   "cell_type": "markdown",
   "metadata": {
    "hideCode": false,
    "hidePrompt": false
   },
   "source": [
    "#### Récupération des bits de poids faibles"
   ]
  },
  {
   "cell_type": "code",
   "execution_count": null,
   "metadata": {
    "hideCode": false,
    "hidePrompt": false
   },
   "outputs": [],
   "source": [
    "# Get the LSBs\n",
    "lsb = blue_perm&1\n",
    "\n",
    "print(lsb[:100])"
   ]
  },
  {
   "cell_type": "markdown",
   "metadata": {
    "hideCode": false,
    "hidePrompt": false
   },
   "source": [
    "#### Insertion du message"
   ]
  },
  {
   "cell_type": "code",
   "execution_count": null,
   "metadata": {
    "hideCode": false,
    "hidePrompt": false
   },
   "outputs": [],
   "source": [
    "# Write the size on the first 32 bits\n",
    "lsb[:32]= list(np.binary_repr(nb_bits, width=32))\n",
    "# Write the message after\n",
    "lsb[32:32+nb_bits] = list(bits)\n",
    "\n",
    "# LSB substitution\n",
    "blue_perm_stego = (blue_perm & ~1) | lsb\n",
    "\n",
    "print(blue_perm_stego[:100])\n",
    "\n",
    "print(blue_perm_stego[:100]-blue_perm[:100])"
   ]
  },
  {
   "cell_type": "markdown",
   "metadata": {
    "hideCode": false,
    "hidePrompt": false
   },
   "source": [
    "#### Permutation inverse et substitution du canal bleu"
   ]
  },
  {
   "cell_type": "code",
   "execution_count": null,
   "metadata": {
    "hideCode": false,
    "hidePrompt": false
   },
   "outputs": [],
   "source": [
    "blue_stego = np.zeros((w*h))\n",
    "# Inverse permutation\n",
    "blue_stego[index_perm] = blue_perm_stego\n",
    "blue_stego = np.reshape(blue_stego,(w,h))\n",
    "blue_stego = blue_stego.astype(dtype=np.uint8)\n",
    "im_stego[:,:,2] = blue_stego\n",
    "    "
   ]
  },
  {
   "cell_type": "markdown",
   "metadata": {
    "hideCode": false,
    "hidePrompt": false
   },
   "source": [
    "#### Enregistrement, calcul du taux d'insertion"
   ]
  },
  {
   "cell_type": "code",
   "execution_count": null,
   "metadata": {
    "hideCode": false,
    "hidePrompt": false
   },
   "outputs": [],
   "source": [
    "# Save and show the stego picture\n",
    "im_stego_png = Image.fromarray(im_stego)\n",
    "im_stego_png.save(stego_path)\n",
    "plt.figure(2,figsize=(10,10))\n",
    "plt.imshow(im_stego)\n",
    "print('embedding rate:\\n',float(nb_bits+32)/(3*h*w), 'bpp\\n')"
   ]
  },
  {
   "cell_type": "markdown",
   "metadata": {
    "hideCode": false,
    "hidePrompt": false
   },
   "source": [
    "#### Image différence"
   ]
  },
  {
   "cell_type": "code",
   "execution_count": null,
   "metadata": {
    "hideCode": false,
    "hidePrompt": false
   },
   "outputs": [],
   "source": [
    "\n",
    "# Show the difference\n",
    "\n",
    "plt.figure(1,figsize=(10,10))\n",
    "plt.imshow(blue_stego-blue_channel,cmap='Greys')"
   ]
  },
  {
   "cell_type": "markdown",
   "metadata": {
    "hideCode": false,
    "hidePrompt": false
   },
   "source": [
    "#### Décodage du message"
   ]
  },
  {
   "cell_type": "code",
   "execution_count": null,
   "metadata": {
    "hideCode": false,
    "hidePrompt": false
   },
   "outputs": [],
   "source": [
    "# Decode\n",
    "\n",
    "# Open the image\n",
    "pil_image = Image.open(stego_path)\n",
    "im_array = np.asarray(pil_image)\n",
    "\n",
    "# Use a key\n",
    "key = 'azerty'\n",
    "\n",
    "# Convert the key to bits, then to an integer\n",
    "\n",
    "#key_unicode = unicode(key, \"utf-8\")\n",
    "#bits_key = '{:b}'.format(int(key_unicode.encode('utf-8').encode('hex'), 16))\n",
    "#key_int = sum(map(lambda x: x[1]*(2**x[0]), enumerate(map(int, str(bits_key))[::-1])))   \n",
    "key_int = hash(key)\n",
    "\n",
    "# Get the blue channel\n",
    "blue_channel_test = im_array[:,:,2]\n",
    "w,h = blue_channel_test.shape\n",
    "blue_channel_vec = np.reshape(blue_channel_test,(w*h))\n",
    "    \n",
    "# Perform a pseudo random permutation\n",
    "np.random.seed(np.mod(key_int,4294967295))\n",
    "index_perm = np.random.permutation(w*h)\n",
    "blue_perm = blue_channel_vec[index_perm]\n",
    "\n",
    "#Get the message size from the first 32 bits\n",
    "nb_bits = int(str(blue_perm[:32]&1).replace('[','').replace(']','').replace(' ',''),2)\n",
    "print(nb_bits)"
   ]
  },
  {
   "cell_type": "code",
   "execution_count": null,
   "metadata": {
    "hideCode": false,
    "hidePrompt": false
   },
   "outputs": [],
   "source": [
    "\n",
    "# If message size larger than image size, extract at maximum capacity\n",
    "if nb_bits>h*w : nb_bits = h*w-32\n",
    "\n",
    "# Get the pixels encoding the message\n",
    "blue_perm_new = blue_perm[32:32+nb_bits]\n",
    "# Get the LSBs\n",
    "lsb = blue_perm_new&1\n",
    "\n",
    "print(lsb)\n",
    "\n",
    "# Convert the lsb to string\n",
    "bit_string2 = lsb.tostring()\n",
    "bit_str = '0b'\n",
    "print(len(lsb))\n",
    "for i in range(len(lsb)):\n",
    "    #print(lsb[i])\n",
    "    if lsb[i]==0:\n",
    "        bit_str=bit_str+'0'\n",
    "    else:\n",
    "        bit_str=bit_str+'1'\n",
    "\n",
    "#print(bit_str)\n",
    "#print(bytes(bit_string))\n",
    "#print(format(bit_string, 'b'))\n",
    "# Do some string manipulation\n",
    "#new_string = str(bit_string).replace('\\x01','1')\n",
    "#new_string = new_string.replace('\\x00','0')\n",
    "\n",
    "#print(new_string)\n",
    "\n",
    "# Do the convertion\n",
    "#chars = ('%x' % int(new_string[:nb_bits], 2)).decode('hex').decode('utf-8',errors='ignore')\n",
    "#print(bit_str)\n",
    "\n",
    "n = int(bit_str, 2)\n",
    "#print(n)\n",
    "#print(bit_string[:10])\n",
    "print(bit_str[:10])\n",
    "\n",
    "n.to_bytes((n.bit_length() + 7) // 8, 'big').decode()\n"
   ]
  },
  {
   "cell_type": "markdown",
   "metadata": {
    "hideCode": false,
    "hidePrompt": false
   },
   "source": [
    "# Steganalyse quantitative: estimation de la taille du message"
   ]
  },
  {
   "attachments": {},
   "cell_type": "markdown",
   "metadata": {},
   "source": [
    "Dans 'functions.py' l'ensemble des méthodes utiles ici sont définies nottament : \n",
    "- Les méthodes de création des quatres ensembles W, X, V, Z\n",
    "- La méthode d'encodage du message que les LSB \n",
    "- La méthode d'estimation de la taille du message\n",
    "- Diverses méthodes utilitaires\n",
    "\n",
    "\n",
    "Cependant malgré la définition propre de ces ensemble (surtout de leurs cardinaux), l'équation du segond degré utilisée pour trouver beta n'a à chaque fois pas de solution réelle.\n",
    "Ce nous ne permet pas d'estimer la taille du message et malgré des vérifications le problème persiste.\n",
    "\n",
    "Ci-dessous la procédure proposée complétée et la méthode utilisée pour estimer la moyenne et variance de l'estimation de la taille du message.\n",
    "Tout ceci semble correct hormis l'impossibilité de trouver une racine. (Dans le code, le cas sans racine renvoie quand même 0 pour pouvoir le détecter mais ne pas lancer une erreur).\n"
   ]
  },
  {
   "attachments": {},
   "cell_type": "markdown",
   "metadata": {},
   "source": [
    "### To code"
   ]
  },
  {
   "cell_type": "code",
   "execution_count": null,
   "metadata": {},
   "outputs": [],
   "source": [
    "from functions import décoder_taux_insertion,encoder_selon_clé\n",
    "from functions import build_Z,build_W,condition_X,build_X,condition_V,build_V,resolve_2nd_deg\n",
    "from functions import get_random_string"
   ]
  },
  {
   "cell_type": "code",
   "execution_count": null,
   "metadata": {},
   "outputs": [],
   "source": [
    "# Get the image\n",
    "pil_image = Image.open('./stego.png')\n",
    "im_array = np.asarray(pil_image)\n",
    "im_stego = np.copy(im_array)\n",
    "Im = im_array[:,:,2]\n",
    "\n",
    "# Get pairs of neighboring pixels\n",
    "R = Im[:,:-1]\n",
    "S = Im[:,1:]\n",
    "width, height = S.shape\n",
    "size = float(width * height)"
   ]
  },
  {
   "cell_type": "code",
   "execution_count": null,
   "metadata": {},
   "outputs": [],
   "source": [
    "#Construction des quatres ensembles dont on va regarder les cardinaux : \n",
    "Zp = build_Z(R,S)\n",
    "Wp = build_W(R,S)\n",
    "Xp = build_X(R,S)\n",
    "Vp = build_V(R,S)\n",
    "\n",
    "Pp = Xp+Vp+Zp+Wp\n",
    "\n",
    "a = float(2*(Wp+Zp))  # beta^2\n",
    "b = float(2*(2*Xp-Pp))# beta\n",
    "c = float(Vp+Wp-Xp)   # constant\n",
    "beta = min(resolve_2nd_deg(a=a,b=b,c=c))"
   ]
  },
  {
   "cell_type": "code",
   "execution_count": null,
   "metadata": {},
   "outputs": [],
   "source": [
    "print(f\"Tailles  : Z = {Zp},  W = {Wp},  X = {Xp},  V = {Vp},  P = {Pp}\")\n",
    "print(f\"nombre de bits au total : {size}\")\n",
    "print(f\"Coefficients a: {a},  b: {b},  c: {c}\")\n",
    "print(f\"Valeur du beta trouvé : {beta}\")"
   ]
  },
  {
   "cell_type": "code",
   "execution_count": null,
   "metadata": {
    "hideCode": false,
    "hidePrompt": false
   },
   "outputs": [],
   "source": [
    "# calcul de l'estimation de p\n",
    "pEst = beta\n",
    "print('estimated message size (bits):' , pEst*2*512**2)"
   ]
  },
  {
   "attachments": {},
   "cell_type": "markdown",
   "metadata": {},
   "source": [
    "### En faisant varier la clé, donner l'écart type et la moyenne de la taille estimée"
   ]
  },
  {
   "attachments": {},
   "cell_type": "markdown",
   "metadata": {},
   "source": [
    "Estimation via sampling (monte carlo)"
   ]
  },
  {
   "cell_type": "code",
   "execution_count": null,
   "metadata": {},
   "outputs": [],
   "source": [
    "# Paramètres \n",
    "Nbiter = 10\n",
    "tabEstimations = [0 for _ in range(Nbiter)]\n",
    "\n",
    "#Simulation : sampling\n",
    "for iter in range(Nbiter):\n",
    "    k=get_random_string(10)\n",
    "    img_stego = encoder_selon_clé(key=k)\n",
    "    tailleEstimée=décoder_taux_insertion(im_stego=im_stego)\n",
    "    tabEstimations[iter]=tailleEstimée\n",
    "    print(f\"Taille estimée : {tailleEstimée} pour une clé k : {k}\")"
   ]
  },
  {
   "cell_type": "code",
   "execution_count": null,
   "metadata": {},
   "outputs": [],
   "source": [
    "moy = np.mean(tabEstimations)\n",
    "var = np.var(tabEstimations)\n",
    "print(f\"Estimation de la moyenne  : {moy}\")\n",
    "print(f\"Estimation de la variance  : {var}\")"
   ]
  }
 ],
 "metadata": {
  "hide_code_all_hidden": false,
  "kernelspec": {
   "display_name": "base",
   "language": "python",
   "name": "python3"
  },
  "language_info": {
   "codemirror_mode": {
    "name": "ipython",
    "version": 3
   },
   "file_extension": ".py",
   "mimetype": "text/x-python",
   "name": "python",
   "nbconvert_exporter": "python",
   "pygments_lexer": "ipython3",
   "version": "3.9.12"
  },
  "vscode": {
   "interpreter": {
    "hash": "9b5440af20dee48b5c77a7ff62b388a2cdab98675ea8f2606dac22dba8f4343f"
   }
  }
 },
 "nbformat": 4,
 "nbformat_minor": 2
}
