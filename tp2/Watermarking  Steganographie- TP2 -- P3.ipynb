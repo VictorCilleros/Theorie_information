{
 "cells": [
  {
   "cell_type": "markdown",
   "metadata": {
    "hideCode": false,
    "hidePrompt": false
   },
   "source": [
    "### Noms et Prénoms du binome:\n",
    "\n",
    "\n",
    "---"
   ]
  },
  {
   "cell_type": "markdown",
   "metadata": {
    "hideCode": false,
    "hidePrompt": false
   },
   "source": [
    "# TP en Watermarking - TP2\n",
    "\n",
    "---\n",
    "\n",
    "## Patrick Bas, CNRS, CRIStAL\n",
    "\n",
    "---\n",
    "\n",
    "\n",
    " "
   ]
  },
  {
   "cell_type": "markdown",
   "metadata": {
    "hideCode": false,
    "hidePrompt": false
   },
   "source": [
    "## Tatouage par également de spectre et attaques de sécurité\n",
    "\n",
    "### 2.1 Notations et rappels:\n",
    "\n",
    "Les notations sont identiques à celles vues en cours. Le procédé d'insertion est le schéma par étalement de spectre vu en cours.\n",
    "\n",
    "* X = matrice de $N_{i}$ vecteurs originaux de taille $N_{v}$ ($N_{i}$ colonnes, $N_{v}$ lignes). $N_{i}$ représente par exemple le nombre de contenu traités, et $N_{v}$ le nombre de composantes tatouées par contenu. **Note**: chaque colonne de X peut par exemple représenter des composantes d'une image.\n",
    "* $N_{o}$ représente le nombre de contenus tatoués observés par l'adversaire et utilisés pour construire son attaque\n",
    "* $N_{i}$ représente le nombre de contenus tatoués utilisés pour calculer pratiquement le taux d'erreur (voir BER)\n",
    "* Y = matrice de contenus tatoués\n",
    "* Z = matrice de contenus tatoués et perturbés\n",
    "* k clé secrète de norme unitaire\n",
    "* $m_{1}$: bit inséré, converti en +1, -1 \n",
    "* $\\alpha$: paramètre de distorsion\n",
    "* BER: Bit Error Rate, taux d'erreur binaire ou encore probabilité d'erreur empirique de décodage\n",
    "* DWR: « Document to Watermark Ratio » $DWR=10\\log_{10}(\\sum x_{i}^{2}/\\sum w_{i}^{2})$, permet de mesurer la distorsion ($DWR=0$ $\\Leftrightarrow$ $\\sigma_{X}^{2}=\\sigma_{W}^{2}$ ). Permet de mesurer la distortion. Distortion nulle $DWR=\\infty$, distortion importante $DWR \\rightarrow 0$ \n",
    "\n",
    "#### Rappels:\n",
    "* L'objectif du récepteur et de bien décoder $m_{1}$, possiblement en ayant une distortion qui ne soit pas trop importante\n",
    "* Ici, les objectifs de l'adversaire sont d'estimer la clé k puis d'effacer le message inséré. Pour s'assurer que l'adversaire a bien réussi à estimer la clé, il calculera la correlation normalisée entre le vecteur k et son estimation.\n",
    "\n",
    "**N'oubliez pas d'exporter votre TP en html lors de sa remise**\n",
    "\n"
   ]
  },
  {
   "cell_type": "code",
   "execution_count": 1,
   "metadata": {
    "hideCode": false,
    "hidePrompt": false
   },
   "outputs": [],
   "source": [
    "%matplotlib inline  \n",
    "\n",
    "import numpy as np\n",
    "import matplotlib.pyplot as plt\n",
    "from scipy.special import erf\n",
    "from sklearn.decomposition import FastICA"
   ]
  },
  {
   "cell_type": "markdown",
   "metadata": {
    "hideCode": false,
    "hideOutput": true,
    "hidePrompt": false
   },
   "source": [
    "## Scénario 1: Attaque à Messages connus, 1 bit\n",
    "* Mise en route: Quel est le BER cible de l'adversaire ?\n",
    "* Mettre en place l'attaque liée à ce scénario\n",
    "* Etudier l'impact de $N_{o}$ et de $\\alpha$ sur le BER après attaque"
   ]
  },
  {
   "cell_type": "code",
   "execution_count": 2,
   "metadata": {
    "hideCode": false,
    "hidePrompt": false
   },
   "outputs": [],
   "source": [
    "Nv = 100 # Size of the vector\n",
    "Ni = 10000 # Max number of observations"
   ]
  },
  {
   "cell_type": "code",
   "execution_count": 3,
   "metadata": {
    "hideCode": false,
    "hidePrompt": false
   },
   "outputs": [
    {
     "name": "stdout",
     "output_type": "stream",
     "text": [
      "alpha:  2\n",
      "No:  100\n",
      "DWR:  13.979400086720377  dB\n",
      "practical bit error rate:\n",
      "0.0218\n",
      "Normalised correlation between the true key and the estimated key\n",
      "[nan]\n",
      "practical bit error rate after security attack\n",
      "1.0\n",
      "\n",
      "\n",
      "\n",
      "alpha:  2\n",
      "No:  200\n",
      "DWR:  13.979400086720377  dB\n",
      "practical bit error rate:\n",
      "0.0247\n",
      "Normalised correlation between the true key and the estimated key\n",
      "[nan]\n",
      "practical bit error rate after security attack\n",
      "1.0\n",
      "\n",
      "\n",
      "\n",
      "alpha:  2\n",
      "No:  300\n",
      "DWR:  13.979400086720377  dB\n",
      "practical bit error rate:\n",
      "0.0227\n",
      "Normalised correlation between the true key and the estimated key\n",
      "[nan]\n",
      "practical bit error rate after security attack\n",
      "1.0\n",
      "\n",
      "\n",
      "\n",
      "alpha:  2\n",
      "No:  400\n",
      "DWR:  13.979400086720377  dB\n",
      "practical bit error rate:\n",
      "0.0243\n",
      "Normalised correlation between the true key and the estimated key\n",
      "[nan]\n",
      "practical bit error rate after security attack\n",
      "1.0\n",
      "\n",
      "\n",
      "\n",
      "alpha:  2\n",
      "No:  500\n"
     ]
    },
    {
     "name": "stderr",
     "output_type": "stream",
     "text": [
      "/anaconda3/lib/python3.7/site-packages/ipykernel_launcher.py:40: RuntimeWarning: invalid value encountered in true_divide\n"
     ]
    },
    {
     "name": "stdout",
     "output_type": "stream",
     "text": [
      "DWR:  13.979400086720377  dB\n",
      "practical bit error rate:\n",
      "0.0247\n",
      "Normalised correlation between the true key and the estimated key\n",
      "[nan]\n",
      "practical bit error rate after security attack\n",
      "1.0\n",
      "\n",
      "\n",
      "\n",
      "alpha:  2\n",
      "No:  600\n",
      "DWR:  13.979400086720377  dB\n",
      "practical bit error rate:\n",
      "0.0235\n",
      "Normalised correlation between the true key and the estimated key\n",
      "[nan]\n",
      "practical bit error rate after security attack\n",
      "1.0\n",
      "\n",
      "\n",
      "\n",
      "alpha:  2\n",
      "No:  700\n",
      "DWR:  13.979400086720377  dB\n",
      "practical bit error rate:\n",
      "0.0218\n",
      "Normalised correlation between the true key and the estimated key\n",
      "[nan]\n",
      "practical bit error rate after security attack\n",
      "1.0\n",
      "\n",
      "\n",
      "\n",
      "alpha:  2\n",
      "No:  800\n",
      "DWR:  13.979400086720377  dB\n",
      "practical bit error rate:\n",
      "0.0219\n",
      "Normalised correlation between the true key and the estimated key\n",
      "[nan]\n",
      "practical bit error rate after security attack\n",
      "1.0\n",
      "\n",
      "\n",
      "\n",
      "alpha:  2\n",
      "No:  900\n",
      "DWR:  13.979400086720377  dB\n",
      "practical bit error rate:\n",
      "0.0231\n",
      "Normalised correlation between the true key and the estimated key\n",
      "[nan]\n",
      "practical bit error rate after security attack\n",
      "1.0\n",
      "\n",
      "\n",
      "\n",
      "alpha:  2\n",
      "No:  1000\n",
      "DWR:  13.979400086720377  dB\n",
      "practical bit error rate:\n",
      "0.0235\n",
      "Normalised correlation between the true key and the estimated key\n",
      "[nan]\n",
      "practical bit error rate after security attack\n",
      "1.0\n",
      "\n",
      "\n",
      "\n",
      "alpha:  2\n",
      "No:  1100\n",
      "DWR:  13.979400086720377  dB\n",
      "practical bit error rate:\n",
      "0.0227\n",
      "Normalised correlation between the true key and the estimated key\n",
      "[nan]\n",
      "practical bit error rate after security attack\n",
      "1.0\n",
      "\n",
      "\n",
      "\n",
      "alpha:  2\n",
      "No:  1200\n",
      "DWR:  13.979400086720377  dB\n",
      "practical bit error rate:\n",
      "0.024\n",
      "Normalised correlation between the true key and the estimated key\n",
      "[nan]\n",
      "practical bit error rate after security attack\n",
      "1.0\n",
      "\n",
      "\n",
      "\n",
      "alpha:  2\n",
      "No:  1300\n",
      "DWR:  13.979400086720377  dB\n",
      "practical bit error rate:\n",
      "0.0204\n",
      "Normalised correlation between the true key and the estimated key\n",
      "[nan]\n",
      "practical bit error rate after security attack\n",
      "1.0\n",
      "\n",
      "\n",
      "\n",
      "alpha:  2\n",
      "No:  1400\n",
      "DWR:  13.979400086720377  dB\n",
      "practical bit error rate:\n",
      "0.0242\n",
      "Normalised correlation between the true key and the estimated key\n",
      "[nan]\n",
      "practical bit error rate after security attack\n",
      "1.0\n",
      "\n",
      "\n",
      "\n",
      "alpha:  2\n",
      "No:  1500\n",
      "DWR:  13.979400086720377  dB\n",
      "practical bit error rate:\n",
      "0.0222\n",
      "Normalised correlation between the true key and the estimated key\n",
      "[nan]\n",
      "practical bit error rate after security attack\n",
      "1.0\n",
      "\n",
      "\n",
      "\n",
      "alpha:  2\n",
      "No:  1600\n",
      "DWR:  13.979400086720377  dB\n",
      "practical bit error rate:\n",
      "0.0212\n",
      "Normalised correlation between the true key and the estimated key\n",
      "[nan]\n",
      "practical bit error rate after security attack\n",
      "1.0\n",
      "\n",
      "\n",
      "\n",
      "alpha:  2\n",
      "No:  1700\n",
      "DWR:  13.979400086720377  dB\n",
      "practical bit error rate:\n",
      "0.0216\n",
      "Normalised correlation between the true key and the estimated key\n",
      "[nan]\n",
      "practical bit error rate after security attack\n",
      "1.0\n",
      "\n",
      "\n",
      "\n",
      "alpha:  2\n",
      "No:  1800\n",
      "DWR:  13.979400086720377  dB\n",
      "practical bit error rate:\n",
      "0.0242\n",
      "Normalised correlation between the true key and the estimated key\n",
      "[nan]\n",
      "practical bit error rate after security attack\n",
      "1.0\n",
      "\n",
      "\n",
      "\n",
      "alpha:  2\n",
      "No:  1900\n",
      "DWR:  13.979400086720377  dB\n",
      "practical bit error rate:\n",
      "0.0224\n",
      "Normalised correlation between the true key and the estimated key\n",
      "[nan]\n",
      "practical bit error rate after security attack\n",
      "1.0\n",
      "\n",
      "\n",
      "\n"
     ]
    }
   ],
   "source": [
    "def ber(Y,m,k):#Compute the Bit Error Rate between message m and the extracted message from Y using key k\n",
    "    c = np.sign(np.dot(Y.T,k))\n",
    "    return np.sum(c != m)/np.float(Ni)\n",
    "\n",
    "def norm_corr(hatk,k):\n",
    "    hatk = hatk / np.sqrt(np.dot(hatk.T,hatk)) # Normalize\n",
    "    corrN = np.abs(np.dot(hatk.T,k))/(np.linalg.norm(hatk)*np.linalg.norm(k)) # Compute the Normalised correlation\n",
    "    return corrN\n",
    "\n",
    "def do_process(alpha,No):\n",
    "    \n",
    "    print('alpha: ',alpha)\n",
    "    print('No: ',No)\n",
    "\n",
    "    X = np.random.randn(Nv,Ni) # Generate Ni random host vectors\n",
    "    k = np.random.randn(Nv,1) # Generate de Watermark\n",
    "    k = k / np.sqrt(np.dot(k.T,k)) # Normalize the watermark\n",
    "\n",
    "    m1 = np.ones((Ni,1)) #Scenario with Known Messages: generate only ones, to be changed for the WOA attack!!!\n",
    "\n",
    "    K = np.dot(k,m1.T) # Generate the matrix of watermarks (each column contains m1_i*k)\n",
    "\n",
    "    W = alpha*K\n",
    "\n",
    "    Y = X + W # perform embedding\n",
    "\n",
    "    DWR = 10*np.log10(Nv/alpha**2) # Set the Document to Watermark Ratio, in dB\n",
    "\n",
    "    print('DWR: ',DWR,' dB')\n",
    "\n",
    "    cY = np.sign(np.dot(Y.T,k)) # Computation of the decoded 'bits' (here -1 or +1)\n",
    "    print('practical bit error rate:')\n",
    "    print(np.sum(cY != m1)/np.float(Ni)) \n",
    "\n",
    "    Y_obs = Y[:,:No]\n",
    "    # To Do: implement the attack on No observation, i.e. on Y[:,:No]\n",
    "    \n",
    "    # hatk = ???\n",
    "    hatk = np.zeros(Nv)# To change\n",
    "    hatk = hatk / np.sqrt(np.dot(hatk.T,hatk)) # We need to Normalize\n",
    "    \n",
    "    corrN = np.abs(np.dot(hatk.T,k))/(np.linalg.norm(hatk)*np.linalg.norm(k)) # Compute the Normalised correlation\n",
    "    print('Normalised correlation between the true key and the estimated key')\n",
    "    print(corrN)\n",
    "\n",
    "    hatk = np.reshape(hatk,(Nv,1))# We need to reshape\n",
    "\n",
    "    YA = Y - alpha*np.dot(hatk,m1.T) # KMA: perform the removal attack\n",
    "    print('practical bit error rate after security attack')\n",
    "    print(ber(YA,m1,k))\n",
    "    print('\\n\\n')\n",
    "    \n",
    "\n",
    "alpha = 2 # Tune the power of the watermark here\n",
    "\n",
    "# One example, can be used to draw plots\n",
    "for No in range(100,2000,100):\n",
    "    do_process(alpha,No)"
   ]
  },
  {
   "cell_type": "markdown",
   "metadata": {
    "hideCode": false,
    "hidePrompt": false
   },
   "source": [
    "## Scénario 2, Attaque à messages inconnus, 1bit\n",
    "* Note: la fonction `np.linalg.eig` peut être utilisée pour effectuer une décomposition en valeurs et vecteurs propres.\n",
    "* Note: pour effacer le message inséré, il conviendra au préalable d'estimer le bit inséré, cela peut se faire via `m_est = np.sign(np.dot(Y.T,hatk))` où `hatk` est la clé estimée\n",
    "* Mettre en place l'attaque\n",
    "* Etudier l'impact de $N_{o}$ et de $\\alpha$ sur le BER après attaque"
   ]
  },
  {
   "cell_type": "code",
   "execution_count": null,
   "metadata": {
    "collapsed": true,
    "hideCode": false,
    "hidePrompt": false
   },
   "outputs": [],
   "source": [
    "# 2dn scenario, scenario with KMA \n",
    "print('2nd Scenario')\n",
    "\n",
    "def do_process(alpha,No):\n",
    "    \n",
    "    print('alpha: ',alpha)\n",
    "    print('No: ',No)\n",
    "\n",
    "    X = np.random.randn(Nv,Ni) # Generate Ni random host vectors\n",
    "    k = np.random.randn(Nv,1) # Generate de Watermark\n",
    "    k = k / np.sqrt(np.dot(k.T,k)) # Normalize the watermark\n",
    "\n",
    "    m1 = np.sign(np.random.randn(Ni,1)) #Scenario with unknow messages, first bit\n",
    "\n",
    "    K = np.dot(k,m1.T) # Generate the matrix of watermarks (each column contains m1_i*k)\n",
    "\n",
    "    W = alpha*K\n",
    "\n",
    "    Y = X + W # perform embedding\n",
    "\n",
    "    Y_obs = Y[:,:No]\n",
    "    #hatk = TO DO\n",
    "    hatk = np.zeros(Nv)# To change\n",
    "    \n",
    "    hatk = np.reshape(hatk,(Nv,1)) #You might need to reshape the estimated key\n",
    "\n",
    "    corrN = norm_corr(hatk,k)# To ease the writing we use the norm_corr function\n",
    "\n",
    "    print('Normalised correlation between the true key and the estimated key')\n",
    "    print(corrN)\n",
    "\n",
    "    #m_est = TO DO\n",
    "    #YA = TO DO \n",
    "    YA = np.zeros((Nv,Ni))# To change\n",
    "\n",
    "    print('bit error rate after security attack')\n",
    "    print(ber(YA,m1,k))\n",
    "    print('\\n\\n')\n",
    "\n",
    "\n",
    "    \n",
    "alpha = 2 # Tune the power of the watermark here\n",
    "\n",
    "# One example, can be used to draw plots\n",
    "for No in range(100,2000,100):\n",
    "    do_process(alpha,No)"
   ]
  },
  {
   "cell_type": "markdown",
   "metadata": {
    "hideCode": false,
    "hidePrompt": false
   },
   "source": [
    "## Scénario 3: Attaque à messages inconnus, 2 bits\n",
    "* Vérifier que l'attaque précédente ne permet pas d'estimer les deux clés. \n",
    "* Estimer au moins l'une des clés utilisée\n",
    "    * Note: on pourra utiliser l'algorithme `FastICA` pour estimer les deux composantes indépendantes \n",
    "    * Pour cela on pourra appeler la fonction fastica en spécifiant que l'analyse en composantes indépendantes s'effectuera sur un sous espace engendré par les *deux premières composantes principales* (`n_components=2`), et en récupérant les colonnes de la matrice de mélange A (obtenue via `ica.mixing_`) estimé par l'algorithme.\n",
    "    * Vérifier, à l'aide de la corrélation normalisée, que cette méthode permet d'estimer la clé `k1`\n",
    "* Mettre en place l'attaque qui permet d'effacter un bit sur les deux\n",
    "* Etudier l'impact de $N_{o}$ et de $\\alpha$ sur le BER après attaque"
   ]
  },
  {
   "cell_type": "code",
   "execution_count": null,
   "metadata": {
    "collapsed": true,
    "hideCode": false,
    "hidePrompt": false,
    "scrolled": false
   },
   "outputs": [],
   "source": [
    "# 3rd scenario, 2 bits\n",
    "print('3rd scenario, 2bits')\n",
    "\n",
    "m1 = np.sign(np.random.randn(Ni,1))#Scenario with unknow messages, first bit\n",
    "m2 = np.sign(np.random.randn(Ni,1))#Scenario with unknow messages, second bit\n",
    "\n",
    "k1 = np.random.randn(Nv,1) # Generate de Watermark\n",
    "k1 = k1 / np.sqrt(np.dot(k1.T,k1)) # Normalize the watermark\n",
    "\n",
    "k2 = np.random.randn(Nv,1) # Generate de Watermark\n",
    "k2 = k2 / np.sqrt(np.dot(k2.T,k2)) # Normalize the watermark\n",
    "\n",
    "def do_process(alpha,No):\n",
    "    \n",
    "    print('alpha: ',alpha)\n",
    "    print('No: ',No)\n",
    "\n",
    "    X = np.random.randn(Nv,Ni) # Generate Ni random host vectors\n",
    "\n",
    "    K = np.dot(k1,m1.T) + np.dot(k2,m2.T) # Generate the matrix of watermarks (each column contains m1_i*k)\n",
    "\n",
    "    W = alpha*K\n",
    "\n",
    "    Y = X + W # perform embedding\n",
    "\n",
    "    \n",
    "    Y_obs = Y[:,:No]\n",
    "    # TO DO\n",
    "    \n",
    "    # hatk_1 = TO DO\n",
    "    hatk_1 = np.zeros(Nv)# To change\n",
    "    \n",
    "    hatk_1 = hatk_1/np.linalg.norm(hatk_1)\n",
    "    hatk_1 = np.reshape(hatk_1,(Nv,1))\n",
    "\n",
    "    corrN_1 = norm_corr(hatk_1,k1) # Compute the Normalised correlation\n",
    "    print('Normalised correlation between the estimated key and k1')\n",
    "    print(corrN_1)\n",
    "\n",
    "    corrN_2 = norm_corr(hatk_1,k2) # Compute the Normalised correlation\n",
    "    print('Normalised correlation between the estimated key and k2')\n",
    "    print(corrN_2)\n",
    "\n",
    "    # Perform the attack\n",
    "    # To do\n",
    "    YA_1 = np.zeros((Nv,Ni))# To change   \n",
    "    \n",
    "    \n",
    "    print('bit error rate after security attack for the first bit')\n",
    "    print(ber(YA_1,m1,k1))\n",
    "\n",
    "    print('bit error rate after security attack for the second bit')\n",
    "    print(ber(YA_1,m2,k2))\n",
    "    print('\\n\\n')\n",
    "\n",
    "\n",
    "\n",
    "alpha = 2 # Tune the power of the watermark here\n",
    "\n",
    "# One example, can be used to draw plots\n",
    "for No in range(100,2000,100):\n",
    "    do_process(alpha,No)"
   ]
  },
  {
   "cell_type": "markdown",
   "metadata": {
    "hideCode": false,
    "hideOutput": true,
    "hidePrompt": false
   },
   "source": [
    "## Pour conclure: Etude de la robustesse\n",
    "* Calculer le taux d'erreur (BER pour Bit Error Rate) théorique après ajout de bruit (voir cours)\n",
    "* Etudier l'évolution de la robustesse (via le BER) en fonction de la distortion (via le DWR) \n",
    "* Quel compromis observe-t-on entre la sécurité et la robustesse?\n"
   ]
  },
  {
   "cell_type": "code",
   "execution_count": null,
   "metadata": {},
   "outputs": [],
   "source": []
  },
  {
   "cell_type": "markdown",
   "metadata": {},
   "source": [
    "# Stéganalyse par apprentissage\n",
    "## Mise en route:\n",
    "* Récupèrer les caractéristiques ici: https://nextcloud.univ-lille.fr/index.php/s/i6xr4JykqAASapN\n",
    "* On charge les caractéristiques extraites à partir des images Cover et Stego pour d=3 (dimension de l'histogramme multivarié) et T=3 (seuil)"
   ]
  },
  {
   "cell_type": "code",
   "execution_count": 2,
   "metadata": {},
   "outputs": [],
   "source": [
    "cover = np.loadtxt('Features/cover-spam-N=3-T=3.csv')\n",
    "stego = np.loadtxt('Features/stego-0.20-lsb-spam-N=3-T=3.csv')"
   ]
  },
  {
   "cell_type": "code",
   "execution_count": 4,
   "metadata": {},
   "outputs": [
    {
     "name": "stdout",
     "output_type": "stream",
     "text": [
      "(10000, 686)\n",
      "(10000, 686)\n"
     ]
    }
   ],
   "source": [
    "print(cover.shape)\n",
    "print(stego.shape)"
   ]
  },
  {
   "cell_type": "markdown",
   "metadata": {},
   "source": [
    "**Quelle est la dimension des caractéristiques ? Pourquoi ?**"
   ]
  },
  {
   "cell_type": "code",
   "execution_count": null,
   "metadata": {},
   "outputs": [],
   "source": []
  },
  {
   "cell_type": "markdown",
   "metadata": {},
   "source": [
    "**Entrainer un classifieur linéaire avec 5000 images en apprentissage et en test (effectuer une permutation pseudo-aléatoire des images avant l'apprentissage)**"
   ]
  },
  {
   "cell_type": "code",
   "execution_count": null,
   "metadata": {},
   "outputs": [],
   "source": []
  },
  {
   "cell_type": "markdown",
   "metadata": {},
   "source": [
    "**Vérifier l'impact de l'apprentissage par paires**"
   ]
  },
  {
   "cell_type": "code",
   "execution_count": null,
   "metadata": {},
   "outputs": [],
   "source": []
  },
  {
   "cell_type": "markdown",
   "metadata": {},
   "source": [
    "**Effectuer plusieurs entrainements/test successifs sur des ensembles d'apprentissage et de test différents (permutations différentes), commentez la variabilité**"
   ]
  },
  {
   "cell_type": "code",
   "execution_count": null,
   "metadata": {},
   "outputs": [],
   "source": []
  },
  {
   "cell_type": "markdown",
   "metadata": {},
   "source": [
    "**Comparer avec les caractéristiques produites pour N = 2 et T = 4 (fournies), expliquer la différence de performance**"
   ]
  }
 ],
 "metadata": {
  "hide_code_all_hidden": false,
  "kernelspec": {
   "display_name": "Python 3",
   "language": "python",
   "name": "python3"
  },
  "language_info": {
   "codemirror_mode": {
    "name": "ipython",
    "version": 3
   },
   "file_extension": ".py",
   "mimetype": "text/x-python",
   "name": "python",
   "nbconvert_exporter": "python",
   "pygments_lexer": "ipython3",
   "version": "3.7.9"
  }
 },
 "nbformat": 4,
 "nbformat_minor": 2
}
