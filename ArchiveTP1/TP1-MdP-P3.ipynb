{
 "cells": [
  {
   "cell_type": "markdown",
   "metadata": {},
   "source": [
    "# Noms du binome: CILLEROS JEAN\n",
    "\n",
    "# Prénoms du binome: Victor Jérémy\n",
    "\n",
    "## Note: exporter le compte rendu basé sur le notebook au format pdf\n"
   ]
  },
  {
   "cell_type": "markdown",
   "metadata": {},
   "source": [
    "# Entropie et génération de mots de passe\n",
    "* L'objectif de ce tp est de continuer à se familiariser avec la notion d'entropie, mais aussi de comprendre le lien qu'il existe entre cette mesure informationelle et la sécurité d'un générateur (humain ou executable) de mots de passes\n",
    "* Ainsi, nous proposons d'étudier l'entropie d'un tel générateur, et ce en fonction du modèle probabiliste considéré pour le modéliser (contruit à partir d'une lettre, de deux lettres, de 4 lettres, ...). A l'aide de tirrages aléatoires, nous estimerons également le temps moyen nécessaire pour trouver un mot de passe à partir de ce modèle.\n",
    "* A la fin de ce TP, nous considérerons un générateur de mots de passe spécifique qui générera un mot de passe en prennant **8 lettres consécutives dans un texte** (sans se soucier des espaces). Ces lettres peuvent faire parti d'un ou de plusieurs mots consécutifs.\n",
    "* Nous faisons l'hypothèse que le texte n'est composé que des 26 lettres de l'alphabet, sans majuscules ni accents\n",
    "\n",
    "Nous chercherons aussi à comprendre (voir dernière question):\n",
    "- les bonnes pratiques pour le défenseur, i.e. la personne cherchant à générer/construire un système de génération de mots de passe.\n",
    "- les bonnes pratiques pour l'attaquant, i.e. la personne essayant de trouver le mot de passe.\n",
    "\n",
    "**Il est important de commenter vos réponses, en utilisant des cellules markdown**\n"
   ]
  },
  {
   "cell_type": "code",
   "execution_count": 1,
   "metadata": {},
   "outputs": [],
   "source": [
    "import numpy as np\n",
    "\n",
    "from numpy import genfromtxt\n",
    "from pandas import read_csv\n",
    "import pandas as pd\n",
    "import time"
   ]
  },
  {
   "cell_type": "markdown",
   "metadata": {},
   "source": [
    "#### Modèle monogramme (une lettre)\n",
    "* On récupére des données composées de [lettre,frequence d'apparition de la lettre] (voir fichier csv pour [comma-separated-value](https://en.wikipedia.org/wiki/Comma-separated_values)) "
   ]
  },
  {
   "cell_type": "code",
   "execution_count": 2,
   "metadata": {},
   "outputs": [],
   "source": [
    "monogramme = read_csv('monogramme.csv')\n",
    "freq_mono = (monogramme['frequency']).values\n",
    "letters_mono = (monogramme['letters']).values\n",
    "\n"
   ]
  },
  {
   "cell_type": "markdown",
   "metadata": {},
   "source": [
    "Q: Quelles sont les 5 lettres les plus représentées ?"
   ]
  },
  {
   "cell_type": "code",
   "execution_count": 13,
   "metadata": {},
   "outputs": [
    {
     "data": {
      "text/plain": [
       "0    E\n",
       "1    S\n",
       "2    A\n",
       "3    N\n",
       "4    T\n",
       "Name: letters, dtype: object"
      ]
     },
     "execution_count": 13,
     "metadata": {},
     "output_type": "execute_result"
    }
   ],
   "source": [
    "# TO DO\n",
    "monogramme.sort_values(by='frequency', ascending=False).letters.iloc[:5]"
   ]
  },
  {
   "cell_type": "markdown",
   "metadata": {},
   "source": [
    "Les 5 lettres les plus représentées sont : \n",
    "E S A N T"
   ]
  },
  {
   "cell_type": "markdown",
   "metadata": {},
   "source": [
    "Ecrire une fonction qui calcule l'entropie à partir d'un vecteur constitué de probabilités empiriques (note, il est important de bien \"gérer le cas ou la probabilité est nulle)."
   ]
  },
  {
   "cell_type": "code",
   "execution_count": 14,
   "metadata": {},
   "outputs": [],
   "source": [
    "def entropie(freq):\n",
    "    ent = 0\n",
    "    for f in freq:\n",
    "        if f>0:\n",
    "            ent -= f*np.log2(f)\n",
    "    return ent"
   ]
  },
  {
   "cell_type": "markdown",
   "metadata": {},
   "source": [
    "Q: en utilisant ce modèle probabiliste pour générer un mot de passe, quelle est l'entropie d'un mot de passe de 8 lettres ?"
   ]
  },
  {
   "cell_type": "code",
   "execution_count": 18,
   "metadata": {},
   "outputs": [
    {
     "name": "stdout",
     "output_type": "stream",
     "text": [
      "L'entropie pour un mot de passe de 8 lettres avec cde modèle probabiliste est minimale pour : 31.6762 bits.\n"
     ]
    }
   ],
   "source": [
    "# TO DO\n",
    "print(f\"L'entropie pour un mot de passe de 8 lettres avec cde modèle probabiliste est minimale pour : {round(8*entropie(monogramme['frequency'].tolist()),4)} bits.\")"
   ]
  },
  {
   "cell_type": "markdown",
   "metadata": {},
   "source": [
    "Q: A l'aide de la fonction `np.random.choice()`, estimer le temps nécessaire en secondes pour tirer 100 000 mots de passes en utilisant ce générateur ? (note: ici le tirage n'est pas forcemment réaliste, car aléatoire, mais l'idée est surtout de mesurer le temps minimal nécessaire pour générer N mots de passes)."
   ]
  },
  {
   "cell_type": "code",
   "execution_count": 37,
   "metadata": {},
   "outputs": [
    {
     "name": "stdout",
     "output_type": "stream",
     "text": [
      "0.045971465110778806 s\n"
     ]
    }
   ],
   "source": [
    "\n",
    "\n",
    "# TO DO\n",
    "t_100000=0\n",
    "letters = monogramme.letters.tolist()\n",
    "proba=monogramme.frequency.tolist()\n",
    "nbEssais=100_000\n",
    "for __ in range(10):\n",
    "    t = time.time()\n",
    "    essai= np.random.choice(letters,p=proba,size=(nbEssais,8))\n",
    "    t_100000 += time.time() - t\n",
    "print(t_100000/10, 's')\n",
    "tempsref = t_100000/10"
   ]
  },
  {
   "cell_type": "markdown",
   "metadata": {},
   "source": [
    "Ici calcul de ce temps est une moyenne sur 10 essais "
   ]
  },
  {
   "cell_type": "markdown",
   "metadata": {},
   "source": [
    "Nous definissons l'\"entropie du devin\" G (guessing entropie) comme le **nombre moyen d'essais successif nécessaires pour trouver un mot de passe à partir de notre générateur**.\n",
    "    On peut montrer que $G\\geq 2^H/4+1$ où $H$ est l'entropie de la source (voir le papier Password_Entropy_and_Password_Quality.pdf )"
   ]
  },
  {
   "cell_type": "markdown",
   "metadata": {},
   "source": [
    "Q: calculer le minorant de $G$ pour ce modèle"
   ]
  },
  {
   "cell_type": "code",
   "execution_count": 35,
   "metadata": {},
   "outputs": [
    {
     "name": "stdout",
     "output_type": "stream",
     "text": [
      "857904864\n"
     ]
    }
   ],
   "source": [
    "# TO DO\n",
    "H=8*entropie(monogramme['frequency'].tolist())\n",
    "minG=(2**H/4)+1\n",
    "print(int(minG))"
   ]
  },
  {
   "cell_type": "markdown",
   "metadata": {},
   "source": [
    "Q: combien de temps cela prendra-t-il pour générer un mot de passe si l'on suppose qu'il est possible de prendre le générateur codé précédemment ? (en minutes)"
   ]
  },
  {
   "cell_type": "code",
   "execution_count": 47,
   "metadata": {},
   "outputs": [
    {
     "name": "stdout",
     "output_type": "stream",
     "text": [
      "Il faut en moyenne : 6.573190592511765 minutes \n"
     ]
    }
   ],
   "source": [
    "# TO DO\n",
    "print(f\"Il faut en moyenne : {((tempsref*minG)/100000)/60} minutes \")\n"
   ]
  },
  {
   "cell_type": "markdown",
   "metadata": {},
   "source": []
  },
  {
   "cell_type": "markdown",
   "metadata": {},
   "source": [
    "On propose maintenant d'utiliser un modèle plus évolué qui est construit à partir de la probabilité conjointe de deux lettres successives (bigramme)"
   ]
  },
  {
   "cell_type": "code",
   "execution_count": 39,
   "metadata": {},
   "outputs": [
    {
     "name": "stdout",
     "output_type": "stream",
     "text": [
      "  letters  frequency\n",
      "0      AA   0.000252\n",
      "1      AB   0.001760\n",
      "2      AC   0.003482\n",
      "3      AD   0.001960\n",
      "4      AE   0.000200\n"
     ]
    }
   ],
   "source": [
    "\n",
    "bigramme = read_csv('bigramme.csv',keep_default_na=False)\n",
    "\n",
    "\n",
    "print(bigramme.head(5))\n",
    "freq_bi = (bigramme['frequency']).values\n",
    "\n",
    "letters_bi = (bigramme['letters']).values\n",
    "\n"
   ]
  },
  {
   "cell_type": "markdown",
   "metadata": {},
   "source": [
    "Q: Quelles sont les 5 couples de lettres les plus représentés ?"
   ]
  },
  {
   "cell_type": "code",
   "execution_count": 40,
   "metadata": {},
   "outputs": [
    {
     "data": {
      "text/plain": [
       "122    ES\n",
       "117    EN\n",
       "82     DE\n",
       "290    LE\n",
       "357    NT\n",
       "Name: letters, dtype: object"
      ]
     },
     "execution_count": 40,
     "metadata": {},
     "output_type": "execute_result"
    }
   ],
   "source": [
    "# TO DO\n",
    "bigramme.sort_values(by='frequency', ascending=False).letters.iloc[:5]"
   ]
  },
  {
   "cell_type": "markdown",
   "metadata": {},
   "source": [
    "Q: en utilisant ce modèle probabiliste pour générer un mot de passe, quelle est l'entropie d'un mot de passe de 8 lettres ?"
   ]
  },
  {
   "cell_type": "code",
   "execution_count": 41,
   "metadata": {},
   "outputs": [
    {
     "name": "stdout",
     "output_type": "stream",
     "text": [
      "L'entropie pour un mot de passe de 8 lettres avec cde modèle probabiliste est minimale pour : 30.1423 bits.\n"
     ]
    }
   ],
   "source": [
    "# TO DO\n",
    "# TO DO\n",
    "print(f\"L'entropie pour un mot de passe de 8 lettres avec cde modèle probabiliste est minimale pour : {round(4*entropie(bigramme['frequency'].tolist()),4)} bits.\")"
   ]
  },
  {
   "cell_type": "markdown",
   "metadata": {},
   "source": [
    "Q: Pourquoi cette entropie est-elle inférieure à celle du modèle construit sur des monogrammes ? Quelle propriété théorique de l'entropie peut justifier ce constat  ?"
   ]
  },
  {
   "cell_type": "markdown",
   "metadata": {},
   "source": [
    "D'après le cours (entropie conditionnelle) on a : $H(X,Y) <= H(X) + H(Y)$ \n",
    "\n",
    "Ainsi on a H(X,X) <= 2*H(X)\n",
    "\n",
    "Nécessairement 4*H(X,X) <= 8*H(X)"
   ]
  },
  {
   "cell_type": "markdown",
   "metadata": {},
   "source": [
    "Q: A l'aide de la fonction `np.random.choice()`, calculer le temps nécessaire en secondes pour tirer 100 000 mots de passes en utilisant ce générateur ?"
   ]
  },
  {
   "cell_type": "code",
   "execution_count": 42,
   "metadata": {},
   "outputs": [
    {
     "name": "stdout",
     "output_type": "stream",
     "text": [
      "0.042973566055297854 s\n"
     ]
    }
   ],
   "source": [
    "# TO DO\n",
    "t_100000=0\n",
    "letters = bigramme.letters.tolist()\n",
    "proba=bigramme.frequency.tolist()\n",
    "nbEssais=100_000\n",
    "for __ in range(10):\n",
    "    t = time.time()\n",
    "    essai= np.random.choice(letters,p=proba,size=(nbEssais,4))\n",
    "    t_100000 += time.time() - t\n",
    "print(t_100000/10, 's')\n",
    "tempsrefBigramme = t_100000/10\n"
   ]
  },
  {
   "cell_type": "markdown",
   "metadata": {},
   "source": [
    "Q: calculer le minorant de $G$ pour ce modèle"
   ]
  },
  {
   "cell_type": "code",
   "execution_count": 55,
   "metadata": {},
   "outputs": [
    {
     "name": "stdout",
     "output_type": "stream",
     "text": [
      "296254956\n"
     ]
    }
   ],
   "source": [
    "# TO DO\n",
    "HBigramme=4*entropie(bigramme['frequency'].tolist())\n",
    "minGBigramme=(2**HBigramme/4)+1\n",
    "print(int(minGBigramme))"
   ]
  },
  {
   "cell_type": "markdown",
   "metadata": {},
   "source": [
    "Q: combien de temps cela prendra-t-il si l'on suppose qu'il est possible de prendre le générateur codé précédemment ? (en minutes)"
   ]
  },
  {
   "cell_type": "code",
   "execution_count": 56,
   "metadata": {},
   "outputs": [
    {
     "name": "stdout",
     "output_type": "stream",
     "text": [
      "Il faut en moyenne : 2.1218553251705137 minutes \n"
     ]
    }
   ],
   "source": [
    "\n",
    "print(f\"Il faut en moyenne : {((tempsrefBigramme*minGBigramme)/100000)/60} minutes \")"
   ]
  },
  {
   "cell_type": "markdown",
   "metadata": {},
   "source": [
    "Q: si maintenant on change de stratégie et on tire aléatoirement chaque lettre de l'alphabet de façon uniforme, quelle est l'entropie de ce nouveau générateur ?"
   ]
  },
  {
   "cell_type": "code",
   "execution_count": 60,
   "metadata": {},
   "outputs": [
    {
     "name": "stdout",
     "output_type": "stream",
     "text": [
      "Entropie maximale car cas uniforme : 37.603517745128734\n"
     ]
    }
   ],
   "source": [
    "# TO DO\n",
    "H_unif = 8* np.log2(26)\n",
    "print(f\"Entropie maximale car cas uniforme : {H_unif}\")"
   ]
  },
  {
   "cell_type": "markdown",
   "metadata": {},
   "source": [
    "Q: A l'aide de la fonction `np.random.choice()`, calculer le temps nécessaire en secondes pour tirer 100 000 mots de passes en utilisant ce générateur ?"
   ]
  },
  {
   "cell_type": "code",
   "execution_count": 78,
   "metadata": {},
   "outputs": [
    {
     "name": "stdout",
     "output_type": "stream",
     "text": [
      "0.07315473556518555 s\n"
     ]
    }
   ],
   "source": [
    "# TO DO\n",
    "t_100000=0\n",
    "letters = monogramme.letters.tolist()\n",
    "probaUnif=[1/26 for i in range(len(letters))]\n",
    "nbEssais=100_000\n",
    "for __ in range(10):\n",
    "    t = time.time()\n",
    "    essai= np.random.choice(letters,p=proba,size=(nbEssais,12))\n",
    "    t_100000 += time.time() - t\n",
    "print(t_100000/10, 's')\n",
    "tempsrefUnif = t_100000/10"
   ]
  },
  {
   "cell_type": "markdown",
   "metadata": {},
   "source": [
    "Q: calculer le minorant de $G$ pour ce modèle"
   ]
  },
  {
   "cell_type": "code",
   "execution_count": 80,
   "metadata": {},
   "outputs": [
    {
     "name": "stdout",
     "output_type": "stream",
     "text": [
      "52206766144\n"
     ]
    }
   ],
   "source": [
    "# TO DO\n",
    "HUnif=8*entropie(probaUnif)\n",
    "minGUnif=(2**HUnif/4)+1\n",
    "print(int(minGUnif))"
   ]
  },
  {
   "cell_type": "markdown",
   "metadata": {},
   "source": [
    "Q: dans ce cas précis, quelle est la valeur exacte de $G$?"
   ]
  },
  {
   "cell_type": "markdown",
   "metadata": {},
   "source": [
    "Bal bla espérance \n",
    " (26**8+1)/2"
   ]
  },
  {
   "cell_type": "markdown",
   "metadata": {},
   "source": [
    "Q: combien de temps cela prendra-t-il en utilisant le générateur codé précédemment ? (en minutes)"
   ]
  },
  {
   "cell_type": "code",
   "execution_count": 81,
   "metadata": {},
   "outputs": [
    {
     "name": "stdout",
     "output_type": "stream",
     "text": [
      "Il faut en moyenne : 1273.0573906653635 minutes \n"
     ]
    }
   ],
   "source": [
    "# TO DO\n",
    "GexactUnif = ((26**8)+1)/2\n",
    "print(f\"Il faut en moyenne : {((tempsrefUnif*GexactUnif)/100000)/60} minutes \")"
   ]
  },
  {
   "cell_type": "markdown",
   "metadata": {},
   "source": [
    "Q: implémenter une attaque pratique qui consiste à:\n",
    "1. **pour le défenseur:** tirer un mot de passe de 4 lettres consécutives à partir de ce texte de Victor Hugo (texteFrancais.txt) tiré des Misérables.  \n",
    "2. **pour l'attaquant:** utiliser le modèle bigramme pour générer des mots de passe et minimiser le nombre d'essais. Pour cela on pourra :\n",
    "    * dans un premier temps pré-calculer un **dictionnaire**, qui contriendra un nombre de MdP générés classés dans l'ordre du plus probable au moins probable et qui ne contient pas de doublons \n",
    "    * dans un deuxième temps appeler ce dictionnaire pour comparer chacune de ses entrées au mot de passe généré.\n",
    "3. Il faudra faire ses tests plusieurs fois afin de d'obtenir un nombre moyens d'appel au dictionnaire nécessaire\n",
    "4. Il sera intéressant de comparer le nombre trouvé à la valeur de G (qui est une borne inférieure)\n",
    "5. Question annexe: Par un simple calcul, si le générateur utilisé n'est plus ce générateur mais un générateur qui tire chaque lettre de façon équiprobable, rappeler la valeur de G. Comparer cette valeur avec la valeur trouvée en utilisant la stratégie \"des 4 lettres consécutives\"."
   ]
  },
  {
   "cell_type": "code",
   "execution_count": 157,
   "metadata": {},
   "outputs": [],
   "source": [
    "from unidecode import unidecode\n",
    "import re\n",
    "pattern = r'[^A-Za-z0-9]+'\n",
    "## Fonction générant un mot de passe\n",
    "def get_passwd():\n",
    "    text_hugo = open(\"texteFrancais.txt\",\"r\")\n",
    "    str_hugo = str(text_hugo.read())\n",
    "\n",
    "    # On remplace des lettres avec accent avec des lettres sans accent\n",
    "    str_hugo = str_hugo.replace(\"Â\", \"A\")\n",
    "    str_hugo = str_hugo.replace(\"Ù\", \"U\")\n",
    "    str_hugo = str_hugo.replace(\"Ô\", \"O\")\n",
    "    str_hugo = unidecode(str_hugo)\n",
    "    str_hugo = re.sub(pattern, '', str_hugo)\n",
    "    size_txt = len(str_hugo)\n",
    "\n",
    "    idx_rand = np.random.randint(size_txt-4)\n",
    "    #print(idx_rand)\n",
    "\n",
    "    psswd = str_hugo[idx_rand:idx_rand+4].upper()\n",
    "    return(psswd)"
   ]
  },
  {
   "cell_type": "code",
   "execution_count": 170,
   "metadata": {},
   "outputs": [],
   "source": [
    "# Génération du dictionnaire\n",
    "letters = bigramme.letters.tolist()\n",
    "proba=bigramme.frequency.tolist()\n",
    "nbEssais=5_000_000\n",
    "essai= np.random.choice(letters,p=proba,size=(nbEssais,2))\n",
    "essai = [essai[i][0]+essai[i][1] for i in range(len(essai))]\n",
    "df_dictionary = pd.DataFrame(dict(mdp=essai)).mdp.value_counts(normalize=True).to_frame(name=\"frequency\")\n",
    "df_dictionary.reset_index(inplace=True)\n",
    "df_dictionary = df_dictionary.rename(columns={'index':'mdp'})"
   ]
  },
  {
   "cell_type": "code",
   "execution_count": 182,
   "metadata": {},
   "outputs": [],
   "source": [
    "import itertools\n",
    "\n",
    "couples = itertools.combinations(bigramme.letters.tolist(),2)\n",
    "probs = itertools.combinations(bigramme.frequency.tolist(),2)"
   ]
  },
  {
   "cell_type": "code",
   "execution_count": 183,
   "metadata": {},
   "outputs": [],
   "source": [
    "df_dictionary = pd.DataFrame(dict(mdp=[c[0] + c[1] for c in couples], frequency=[p[0] * p[1] for p in probs])).sort_values(by='frequency', ascending=False, ignore_index=True)"
   ]
  },
  {
   "cell_type": "code",
   "execution_count": 184,
   "metadata": {},
   "outputs": [
    {
     "data": {
      "text/html": [
       "<div>\n",
       "<style scoped>\n",
       "    .dataframe tbody tr th:only-of-type {\n",
       "        vertical-align: middle;\n",
       "    }\n",
       "\n",
       "    .dataframe tbody tr th {\n",
       "        vertical-align: top;\n",
       "    }\n",
       "\n",
       "    .dataframe thead th {\n",
       "        text-align: right;\n",
       "    }\n",
       "</style>\n",
       "<table border=\"1\" class=\"dataframe\">\n",
       "  <thead>\n",
       "    <tr style=\"text-align: right;\">\n",
       "      <th></th>\n",
       "      <th>mdp</th>\n",
       "      <th>frequency</th>\n",
       "    </tr>\n",
       "  </thead>\n",
       "  <tbody>\n",
       "    <tr>\n",
       "      <th>0</th>\n",
       "      <td>ENES</td>\n",
       "      <td>0.000506</td>\n",
       "    </tr>\n",
       "    <tr>\n",
       "      <th>1</th>\n",
       "      <td>DEES</td>\n",
       "      <td>0.000466</td>\n",
       "    </tr>\n",
       "    <tr>\n",
       "      <th>2</th>\n",
       "      <td>ESLE</td>\n",
       "      <td>0.000449</td>\n",
       "    </tr>\n",
       "    <tr>\n",
       "      <th>3</th>\n",
       "      <td>DEEN</td>\n",
       "      <td>0.000416</td>\n",
       "    </tr>\n",
       "    <tr>\n",
       "      <th>4</th>\n",
       "      <td>ESNT</td>\n",
       "      <td>0.000405</td>\n",
       "    </tr>\n",
       "    <tr>\n",
       "      <th>...</th>\n",
       "      <td>...</td>\n",
       "      <td>...</td>\n",
       "    </tr>\n",
       "    <tr>\n",
       "      <th>228145</th>\n",
       "      <td>FUWS</td>\n",
       "      <td>0.000000</td>\n",
       "    </tr>\n",
       "    <tr>\n",
       "      <th>228146</th>\n",
       "      <td>FUWU</td>\n",
       "      <td>0.000000</td>\n",
       "    </tr>\n",
       "    <tr>\n",
       "      <th>228147</th>\n",
       "      <td>FUWV</td>\n",
       "      <td>0.000000</td>\n",
       "    </tr>\n",
       "    <tr>\n",
       "      <th>228148</th>\n",
       "      <td>FUWW</td>\n",
       "      <td>0.000000</td>\n",
       "    </tr>\n",
       "    <tr>\n",
       "      <th>228149</th>\n",
       "      <td>ZYZZ</td>\n",
       "      <td>0.000000</td>\n",
       "    </tr>\n",
       "  </tbody>\n",
       "</table>\n",
       "<p>228150 rows × 2 columns</p>\n",
       "</div>"
      ],
      "text/plain": [
       "         mdp  frequency\n",
       "0       ENES   0.000506\n",
       "1       DEES   0.000466\n",
       "2       ESLE   0.000449\n",
       "3       DEEN   0.000416\n",
       "4       ESNT   0.000405\n",
       "...      ...        ...\n",
       "228145  FUWS   0.000000\n",
       "228146  FUWU   0.000000\n",
       "228147  FUWV   0.000000\n",
       "228148  FUWW   0.000000\n",
       "228149  ZYZZ   0.000000\n",
       "\n",
       "[228150 rows x 2 columns]"
      ]
     },
     "execution_count": 184,
     "metadata": {},
     "output_type": "execute_result"
    }
   ],
   "source": [
    "df_dictionary"
   ]
  },
  {
   "cell_type": "code",
   "execution_count": 189,
   "metadata": {},
   "outputs": [
    {
     "data": {
      "text/html": [
       "<div>\n",
       "<style scoped>\n",
       "    .dataframe tbody tr th:only-of-type {\n",
       "        vertical-align: middle;\n",
       "    }\n",
       "\n",
       "    .dataframe tbody tr th {\n",
       "        vertical-align: top;\n",
       "    }\n",
       "\n",
       "    .dataframe thead th {\n",
       "        text-align: right;\n",
       "    }\n",
       "</style>\n",
       "<table border=\"1\" class=\"dataframe\">\n",
       "  <thead>\n",
       "    <tr style=\"text-align: right;\">\n",
       "      <th></th>\n",
       "      <th>letters</th>\n",
       "      <th>frequency</th>\n",
       "    </tr>\n",
       "  </thead>\n",
       "  <tbody>\n",
       "    <tr>\n",
       "      <th>338</th>\n",
       "      <td>NA</td>\n",
       "      <td>0.004469</td>\n",
       "    </tr>\n",
       "  </tbody>\n",
       "</table>\n",
       "</div>"
      ],
      "text/plain": [
       "    letters  frequency\n",
       "338      NA   0.004469"
      ]
     },
     "execution_count": 189,
     "metadata": {},
     "output_type": "execute_result"
    }
   ],
   "source": [
    "bigramme[bigramme.letters=='NA']"
   ]
  },
  {
   "cell_type": "code",
   "execution_count": 186,
   "metadata": {},
   "outputs": [
    {
     "name": "stdout",
     "output_type": "stream",
     "text": [
      "MEME\n",
      "URNA\n",
      "ENDI\n",
      "UNEP\n",
      "NENE\n",
      "UELE\n",
      "ETAU\n",
      "RGED\n",
      "REQU\n",
      "TSON\n",
      "QUEL\n",
      "LNAU\n",
      "ECAR\n",
      "IJER\n",
      "PUIS\n",
      "MILL\n",
      "OMME\n",
      "ESCH\n",
      "OCIE\n",
      "TAIT\n",
      "ONCO\n",
      "LOIN\n",
      "TEAU\n",
      "VIES\n",
      "SONP\n",
      "QUEL\n",
      "UTAP\n",
      "UNEP\n",
      "RIEL\n",
      "LEET\n",
      "PENT\n",
      "VAIT\n",
      "SREN\n",
      "TAIT\n",
      "TACL\n",
      "SLES\n",
      "XNOB\n",
      "NSEN\n",
      "SDIS\n",
      "TSOL\n",
      "TETD\n",
      "EUDU\n",
      "IDES\n",
      "TUNE\n",
      "TPRO\n",
      "ONNE\n",
      "IREQ\n",
      "TCEM\n",
      "DECL\n",
      "URSB\n",
      "ERAI\n",
      "RANS\n",
      "REMI\n",
      "OBEO\n",
      "RLES\n",
      "UITE\n",
      "ONDE\n",
      "YRIE\n",
      "NMMY\n",
      "RGES\n",
      "NMMY\n",
      "ITED\n",
      "ETEA\n",
      "ERDE\n",
      "RMMY\n",
      "OUJO\n",
      "NSLA\n",
      "IOCE\n",
      "RRIB\n",
      "TANT\n",
      "USUR\n",
      "REET\n",
      "SLEM\n",
      "REON\n",
      "VIEU\n",
      "SEIL\n",
      "NDEE\n",
      "NTER\n",
      "ITEP\n",
      "SAGE\n",
      "ECAR\n",
      "AVAI\n",
      "BLAN\n",
      "EDEC\n",
      "QUED\n",
      "ITDE\n",
      "ELAV\n",
      "LEBL\n",
      "RIGN\n",
      "OLIT\n",
      "EBAP\n",
      "TMIL\n",
      "GRAC\n",
      "RECI\n",
      "TPAS\n",
      "PTIS\n",
      "UIAV\n",
      "ESAF\n",
      "LSAV\n",
      "QUIC\n",
      "TEDE\n",
      "NTET\n",
      "RDES\n",
      "MBES\n",
      "QUIP\n",
      "SUIV\n",
      "ISAI\n",
      "NTAI\n",
      "RIOS\n",
      "OMEN\n",
      "TPAR\n",
      "TMER\n",
      "SURL\n",
      "ITET\n",
      "MEET\n",
      "ENAI\n",
      "LLEC\n",
      "OMBE\n",
      "IREN\n",
      "RIEL\n",
      "UNES\n",
      "MOME\n",
      "NSIL\n",
      "DAAU\n",
      "USAV\n",
      "EMIE\n",
      "REAL\n",
      "ONNO\n",
      "MAIN\n",
      "GEDE\n",
      "UEET\n",
      "RGES\n",
      "SDEL\n",
      "USEN\n",
      "OUCH\n",
      "TLED\n",
      "OBLE\n",
      "MMEQ\n",
      "ETAI\n",
      "OPAL\n",
      "UTCE\n",
      "TESO\n",
      "UBIT\n",
      "OREP\n",
      "PSAP\n",
      "ELAP\n",
      "TALI\n",
      "TTEI\n",
      "NVER\n",
      "SILA\n",
      "UIME\n",
      "TGAG\n",
      "NEFE\n",
      "TLES\n",
      "UDAN\n",
      "ENDA\n",
      "OIJE\n",
      "ESAV\n",
      "TLEN\n",
      "OCCU\n",
      "VANT\n",
      "NVIE\n",
      "UTET\n",
      "EDEC\n",
      "ITDI\n",
      "UILE\n",
      "TSET\n",
      "VIEQ\n",
      "NTAT\n",
      "SUJE\n",
      "TDIS\n",
      "IXAN\n",
      "MEDE\n",
      "RENA\n",
      "YRIE\n",
      "NELU\n",
      "TEQU\n",
      "SERV\n",
      "VAIT\n",
      "SSEZ\n",
      "RIOS\n",
      "ONDE\n",
      "EMAI\n",
      "SSER\n",
      "ESAP\n",
      "NTED\n",
      "EREP\n",
      "GRAN\n",
      "LDEV\n",
      "PROP\n",
      "STIN\n",
      "EDAN\n",
      "ITDA\n",
      "PTIS\n",
      "TDAN\n",
      "REAL\n",
      "VILL\n",
      "EDEB\n",
      "QUIC\n",
      "RREM\n",
      "LECU\n",
      "VANT\n",
      "TENA\n",
      "YABE\n",
      "SENC\n",
      "TEPO\n",
      "UNPR\n",
      "TLES\n",
      "ETED\n",
      "VOIR\n",
      "ONGU\n",
      "POLE\n",
      "TEQU\n",
      "TDES\n",
      "NTDE\n",
      "NTDE\n",
      "ETAI\n",
      "RENT\n",
      "VENU\n",
      "REPA\n",
      "OLEO\n",
      "RENA\n",
      "UBIT\n",
      "INEE\n",
      "ETAI\n",
      "USEN\n",
      "QUIL\n",
      "ETEJ\n",
      "VOIR\n",
      "TLED\n",
      "MIER\n",
      "ITDE\n",
      "AVAI\n",
      "ETEF\n",
      "ENDI\n",
      "EBAP\n",
      "ESCH\n",
      "SDEP\n",
      "STOU\n",
      "PHES\n",
      "QUEN\n",
      "LLEO\n",
      "RLEM\n",
      "TERP\n",
      "OMEN\n",
      "IDEA\n",
      "SEMB\n",
      "STCE\n",
      "IRES\n",
      "NSLA\n",
      "SONA\n",
      "RENA\n",
      "UCAR\n",
      "RSHA\n",
      "ESAV\n",
      "GNEU\n",
      "ONIN\n",
      "REDE\n",
      "SPET\n",
      "RDEG\n",
      "ITET\n",
      "XPRI\n",
      "QUIL\n",
      "ISET\n",
      "UREP\n",
      "MIER\n",
      "NEEA\n",
      "CLAR\n",
      "RSON\n",
      "PTIS\n",
      "RENV\n",
      "PTIS\n",
      "TETE\n",
      "NVIE\n",
      "ONNE\n",
      "NTED\n",
      "ITBI\n",
      "REAU\n",
      "REMI\n",
      "SELL\n",
      "TREE\n",
      "PREM\n",
      "TCET\n",
      "INEE\n",
      "SURL\n",
      "UONS\n",
      "TSIM\n",
      "TETE\n",
      "LECA\n",
      "ROPO\n",
      "STED\n",
      "VILL\n",
      "QUIA\n",
      "SSED\n",
      "VIER\n",
      "LLEE\n",
      "LIEI\n",
      "NCEE\n",
      "NNES\n",
      "ELAP\n",
      "LPER\n",
      "VAIT\n",
      "TLED\n",
      "LUIF\n",
      "ESAM\n",
      "RLAP\n",
      "RSLE\n",
      "VAIT\n",
      "RMER\n",
      "VAIT\n",
      "GNET\n",
      "REQU\n",
      "EREP\n",
      "LADE\n",
      "LOIR\n",
      "VOIR\n",
      "VIED\n",
      "TENC\n",
      "LIEU\n",
      "RENL\n",
      "ULAF\n",
      "TION\n",
      "EREA\n",
      "EXAC\n",
      "NVIE\n",
      "ETAI\n",
      "QUIL\n",
      "TAIT\n",
      "MMEC\n",
      "TTRE\n",
      "LIET\n",
      "LLAR\n",
      "UGEN\n",
      "OPAT\n",
      "TLEV\n",
      "RDIN\n",
      "ITEP\n",
      "LLES\n",
      "RENA\n",
      "ISEN\n",
      "SENT\n",
      "UXGA\n",
      "ITER\n",
      "UEDE\n",
      "SENL\n",
      "SSAI\n",
      "EVER\n",
      "QUIL\n",
      "UTLA\n",
      "IVAN\n",
      "RDIN\n",
      "ILEN\n",
      "TENT\n",
      "AVAI\n",
      "MOIS\n",
      "RRIV\n",
      "PUBL\n",
      "VOLU\n",
      "ISEL\n",
      "QUIL\n",
      "DECR\n",
      "RENA\n",
      "MAIS\n",
      "ELAP\n",
      "OUJO\n",
      "MELE\n",
      "ROLE\n",
      "RRIV\n",
      "VEQU\n",
      "SLEP\n",
      "UPAI\n",
      "PRES\n",
      "UCAR\n",
      "ONNO\n",
      "NTAU\n",
      "NTDE\n",
      "VANT\n",
      "INAL\n",
      "UTDO\n",
      "LNET\n",
      "UILE\n",
      "SSAT\n",
      "NTES\n",
      "SIDE\n",
      "TFAI\n",
      "REPO\n",
      "FRAY\n",
      "RVAN\n",
      "UJOU\n",
      "LEAT\n",
      "UILR\n",
      "TESI\n",
      "TPLU\n",
      "URTO\n",
      "ESEM\n",
      "UNEM\n",
      "TEND\n",
      "SONN\n",
      "ONDI\n",
      "ROFI\n",
      "MPER\n",
      "UNEM\n",
      "PTIS\n",
      "SLEM\n",
      "PREN\n",
      "UCOU\n",
      "UTIO\n",
      "ITDE\n",
      "PRES\n",
      "RRIB\n",
      "ULNA\n",
      "SSAG\n",
      "UNDE\n",
      "TITE\n",
      "UEIM\n",
      "TDIT\n",
      "SAMA\n",
      "LDEC\n",
      "NVEN\n",
      "REET\n",
      "VEQU\n",
      "RAIT\n",
      "UEDE\n",
      "SAIT\n",
      "MEDI\n",
      "PLEM\n",
      "ITDA\n",
      "VECL\n",
      "REDE\n",
      "TRAN\n",
      "LEAT\n",
      "SORT\n",
      "ESDE\n",
      "TERR\n",
      "SSEZ\n",
      "SLES\n",
      "DEAL\n",
      "NEIT\n",
      "TFEM\n",
      "EGAR\n",
      "TION\n",
      "VAIT\n",
      "SIEN\n",
      "TLAP\n",
      "DEBL\n",
      "PALE\n",
      "EGAR\n",
      "SENC\n",
      "UTLA\n",
      "SPET\n",
      "OINT\n",
      "ITEV\n",
      "YRIE\n",
      "TINE\n",
      "OMME\n",
      "UDAN\n",
      "IDEE\n",
      "CTAB\n",
      "THME\n",
      "LNAU\n",
      "XCEQ\n",
      "ITER\n",
      "NEBR\n",
      "TIEN\n",
      "REAU\n",
      "NDIQ\n",
      "UEDU\n",
      "BLAN\n",
      "AVAI\n",
      "EDEC\n",
      "UREA\n",
      "TIST\n",
      "ETAI\n",
      "RLES\n",
      "TUEL\n",
      "ORDE\n",
      "PRET\n",
      "IEGE\n",
      "CHAR\n",
      "UNEC\n",
      "ONME\n",
      "OLES\n",
      "SIEG\n",
      "SILS\n",
      "RMAD\n",
      "NOMM\n",
      "EMAL\n",
      "USRE\n",
      "IDES\n",
      "VIEU\n",
      "INEE\n",
      "URET\n",
      "ILIE\n",
      "VENU\n",
      "OPAL\n",
      "UFAU\n",
      "SOEU\n",
      "EVEN\n",
      "AVAI\n"
     ]
    }
   ],
   "source": [
    "# Attaques sur 1000 mots de passes\n",
    "\n",
    "nb_trial = 1000\n",
    "vec_nb_trials = np.full(nb_trial, -1)\n",
    "for i in range(nb_trial):\n",
    "    passwrd = get_passwd()\n",
    "    try:\n",
    "        index = df_dictionary[df_dictionary['mdp'] ==passwrd].index.tolist()[0]\n",
    "        vec_nb_trials[i] = index\n",
    "    except:\n",
    "        print(passwrd)\n",
    "    \n",
    "\n",
    "# To do"
   ]
  },
  {
   "cell_type": "code",
   "execution_count": null,
   "metadata": {},
   "outputs": [],
   "source": [
    "# Comparaison avec la valeur de G\n",
    "\n",
    "# To do"
   ]
  },
  {
   "cell_type": "markdown",
   "metadata": {},
   "source": [
    "## Conclusions \n",
    "\n",
    "- Définir des bonnes pratiques pour le défenseur, i.e. la personne cherchant à concevoir un système de génération de mots de passe ? \n",
    "- Définior des bonnes pratiques pour l'attaquant, i.e. la personne essayant de trouver le mot de passe ?"
   ]
  },
  {
   "cell_type": "markdown",
   "metadata": {},
   "source": [
    "**To do**"
   ]
  },
  {
   "cell_type": "markdown",
   "metadata": {},
   "source": [
    "## Un peu de lecture\n",
    "Cet article montre comment des hackers, à partir de leaks de bases de mots de passes, peuvent rapidement arriver à trouver le votre:\n",
    "https://arstechnica.com/information-technology/2013/05/how-crackers-make-minced-meat-out-of-your-passwords/\n"
   ]
  }
 ],
 "metadata": {
  "kernelspec": {
   "display_name": "Python 3.8.15 ('rltutorials')",
   "language": "python",
   "name": "python3"
  },
  "language_info": {
   "codemirror_mode": {
    "name": "ipython",
    "version": 3
   },
   "file_extension": ".py",
   "mimetype": "text/x-python",
   "name": "python",
   "nbconvert_exporter": "python",
   "pygments_lexer": "ipython3",
   "version": "3.8.15"
  },
  "vscode": {
   "interpreter": {
    "hash": "22fb3692bee311354396abce5de73f147db26a6651d0fabb33560b91bb1fb1cd"
   }
  }
 },
 "nbformat": 4,
 "nbformat_minor": 2
}
