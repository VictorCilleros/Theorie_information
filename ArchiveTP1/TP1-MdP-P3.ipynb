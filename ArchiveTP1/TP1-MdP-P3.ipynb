{
 "cells": [
  {
   "cell_type": "markdown",
   "metadata": {},
   "source": [
    "# Noms du binome: CILLEROS JEAN\n",
    "\n",
    "# Prénoms du binome: Victor Jérémy\n",
    "\n",
    "## Note: exporter le compte rendu basé sur le notebook au format pdf\n"
   ]
  },
  {
   "cell_type": "markdown",
   "metadata": {},
   "source": [
    "# Entropie et génération de mots de passe\n",
    "* L'objectif de ce tp est de continuer à se familiariser avec la notion d'entropie, mais aussi de comprendre le lien qu'il existe entre cette mesure informationelle et la sécurité d'un générateur (humain ou executable) de mots de passes\n",
    "* Ainsi, nous proposons d'étudier l'entropie d'un tel générateur, et ce en fonction du modèle probabiliste considéré pour le modéliser (contruit à partir d'une lettre, de deux lettres, de 4 lettres, ...). A l'aide de tirrages aléatoires, nous estimerons également le temps moyen nécessaire pour trouver un mot de passe à partir de ce modèle.\n",
    "* A la fin de ce TP, nous considérerons un générateur de mots de passe spécifique qui générera un mot de passe en prennant **8 lettres consécutives dans un texte** (sans se soucier des espaces). Ces lettres peuvent faire parti d'un ou de plusieurs mots consécutifs.\n",
    "* Nous faisons l'hypothèse que le texte n'est composé que des 26 lettres de l'alphabet, sans majuscules ni accents\n",
    "\n",
    "Nous chercherons aussi à comprendre (voir dernière question):\n",
    "- les bonnes pratiques pour le défenseur, i.e. la personne cherchant à générer/construire un système de génération de mots de passe.\n",
    "- les bonnes pratiques pour l'attaquant, i.e. la personne essayant de trouver le mot de passe.\n",
    "\n",
    "**Il est important de commenter vos réponses, en utilisant des cellules markdown**\n"
   ]
  },
  {
   "cell_type": "code",
   "execution_count": 1,
   "metadata": {},
   "outputs": [],
   "source": [
    "import numpy as np\n",
    "\n",
    "from numpy import genfromtxt\n",
    "from pandas import read_csv\n",
    "import pandas as pd\n",
    "import time"
   ]
  },
  {
   "cell_type": "markdown",
   "metadata": {},
   "source": [
    "#### Modèle monogramme (une lettre)\n",
    "* On récupére des données composées de [lettre,frequence d'apparition de la lettre] (voir fichier csv pour [comma-separated-value](https://en.wikipedia.org/wiki/Comma-separated_values)) "
   ]
  },
  {
   "cell_type": "code",
   "execution_count": 2,
   "metadata": {},
   "outputs": [],
   "source": [
    "monogramme = read_csv('monogramme.csv')\n",
    "freq_mono = (monogramme['frequency']).values\n",
    "letters_mono = (monogramme['letters']).values\n",
    "\n"
   ]
  },
  {
   "cell_type": "markdown",
   "metadata": {},
   "source": [
    "Q: Quelles sont les 5 lettres les plus représentées ?"
   ]
  },
  {
   "cell_type": "code",
   "execution_count": 3,
   "metadata": {},
   "outputs": [
    {
     "data": {
      "text/plain": [
       "0    E\n",
       "1    S\n",
       "2    A\n",
       "3    N\n",
       "4    T\n",
       "Name: letters, dtype: object"
      ]
     },
     "execution_count": 3,
     "metadata": {},
     "output_type": "execute_result"
    }
   ],
   "source": [
    "# TO DO\n",
    "monogramme.sort_values(by='frequency', ascending=False).letters.iloc[:5]"
   ]
  },
  {
   "cell_type": "markdown",
   "metadata": {},
   "source": [
    "Les 5 lettres les plus représentées sont : \n",
    "E S A N T"
   ]
  },
  {
   "cell_type": "markdown",
   "metadata": {},
   "source": [
    "Ecrire une fonction qui calcule l'entropie à partir d'un vecteur constitué de probabilités empiriques (note, il est important de bien \"gérer le cas ou la probabilité est nulle)."
   ]
  },
  {
   "cell_type": "code",
   "execution_count": 5,
   "metadata": {},
   "outputs": [],
   "source": [
    "def entropie(freq):\n",
    "    ent = 0\n",
    "    for f in freq:\n",
    "        if f>0:\n",
    "            ent -= f*np.log2(f)\n",
    "    return ent"
   ]
  },
  {
   "cell_type": "markdown",
   "metadata": {},
   "source": [
    "Q: en utilisant ce modèle probabiliste pour générer un mot de passe, quelle est l'entropie d'un mot de passe de 8 lettres ?"
   ]
  },
  {
   "cell_type": "code",
   "execution_count": 5,
   "metadata": {},
   "outputs": [
    {
     "name": "stdout",
     "output_type": "stream",
     "text": [
      "L'entropie pour un mot de passe de 8 lettres avec cde modèle probabiliste est minimale pour : 31.6762 bits.\n"
     ]
    }
   ],
   "source": [
    "# TO DO\n",
    "print(f\"L'entropie pour un mot de passe de 8 lettres avec cde modèle probabiliste est minimale pour : {round(8*entropie(monogramme['frequency'].tolist()),4)} bits.\")"
   ]
  },
  {
   "cell_type": "markdown",
   "metadata": {},
   "source": [
    "Q: A l'aide de la fonction `np.random.choice()`, estimer le temps nécessaire en secondes pour tirer 100 000 mots de passes en utilisant ce générateur ? (note: ici le tirage n'est pas forcemment réaliste, car aléatoire, mais l'idée est surtout de mesurer le temps minimal nécessaire pour générer N mots de passes)."
   ]
  },
  {
   "cell_type": "code",
   "execution_count": 3,
   "metadata": {},
   "outputs": [
    {
     "name": "stdout",
     "output_type": "stream",
     "text": [
      "Le temps nécessaire pour tirer 100 000 mots de passe est : 0.028124737739562988 s\n"
     ]
    }
   ],
   "source": [
    "# TO DO\n",
    "t_100000=0\n",
    "letters = monogramme.letters.tolist()\n",
    "proba=monogramme.frequency.tolist()\n",
    "nbEssais=100_000\n",
    "for __ in range(10):\n",
    "    t = time.time()\n",
    "    essai= np.random.choice(letters,p=proba,size=(nbEssais,8))\n",
    "    t_100000 += time.time() - t\n",
    "tempsref = t_100000/10\n",
    "print(f\"Le temps nécessaire pour tirer 100 000 mots de passe est : {tempsref} s\")"
   ]
  },
  {
   "cell_type": "markdown",
   "metadata": {},
   "source": [
    "Ici calcul de ce temps est une moyenne sur 10 essais "
   ]
  },
  {
   "cell_type": "markdown",
   "metadata": {},
   "source": [
    "Nous definissons l'\"entropie du devin\" G (guessing entropie) comme le **nombre moyen d'essais successif nécessaires pour trouver un mot de passe à partir de notre générateur**.\n",
    "    On peut montrer que $G\\geq 2^H/4+1$ où $H$ est l'entropie de la source (voir le papier Password_Entropy_and_Password_Quality.pdf )"
   ]
  },
  {
   "cell_type": "markdown",
   "metadata": {},
   "source": [
    "Q: calculer le minorant de $G$ pour ce modèle"
   ]
  },
  {
   "cell_type": "code",
   "execution_count": 6,
   "metadata": {},
   "outputs": [
    {
     "name": "stdout",
     "output_type": "stream",
     "text": [
      "La valeur du minorant est : 857904864\n"
     ]
    }
   ],
   "source": [
    "# TO DO\n",
    "H=8*entropie(monogramme['frequency'].tolist())\n",
    "minG=(2**H/4)+1\n",
    "print(f\"La valeur du minorant est : {int(minG)}\")"
   ]
  },
  {
   "cell_type": "markdown",
   "metadata": {},
   "source": [
    "Q: combien de temps cela prendra-t-il pour générer un mot de passe si l'on suppose qu'il est possible de prendre le générateur codé précédemment ? (en minutes)"
   ]
  },
  {
   "cell_type": "code",
   "execution_count": 8,
   "metadata": {},
   "outputs": [
    {
     "name": "stdout",
     "output_type": "stream",
     "text": [
      "Il faut en moyenne : 3.8153068148042424 minutes \n"
     ]
    }
   ],
   "source": [
    "# TO DO\n",
    "print(f\"Il faut en moyenne : {((tempsref*minG)/100000)/60} minutes \")"
   ]
  },
  {
   "cell_type": "markdown",
   "metadata": {},
   "source": []
  },
  {
   "cell_type": "markdown",
   "metadata": {},
   "source": [
    "On propose maintenant d'utiliser un modèle plus évolué qui est construit à partir de la probabilité conjointe de deux lettres successives (bigramme)"
   ]
  },
  {
   "cell_type": "code",
   "execution_count": 8,
   "metadata": {},
   "outputs": [
    {
     "name": "stdout",
     "output_type": "stream",
     "text": [
      "  letters  frequency\n",
      "0      AA   0.000252\n",
      "1      AB   0.001760\n",
      "2      AC   0.003482\n",
      "3      AD   0.001960\n",
      "4      AE   0.000200\n"
     ]
    }
   ],
   "source": [
    "bigramme = read_csv('bigramme.csv',keep_default_na=False)\n",
    "print(bigramme.head(5))\n",
    "freq_bi = (bigramme['frequency']).values\n",
    "letters_bi = (bigramme['letters']).values"
   ]
  },
  {
   "cell_type": "markdown",
   "metadata": {},
   "source": [
    "Q: Quelles sont les 5 couples de lettres les plus représentés ?"
   ]
  },
  {
   "cell_type": "code",
   "execution_count": 9,
   "metadata": {},
   "outputs": [
    {
     "data": {
      "text/plain": "122    ES\n117    EN\n82     DE\n290    LE\n357    NT\nName: letters, dtype: object"
     },
     "execution_count": 9,
     "metadata": {},
     "output_type": "execute_result"
    }
   ],
   "source": [
    "# TO DO\n",
    "bigramme.sort_values(by='frequency', ascending=False).letters.iloc[:5]"
   ]
  },
  {
   "cell_type": "markdown",
   "source": [
    "Les cinq couples les plus représentés sont :\n",
    "ES - EN - DE - LE - NT"
   ],
   "metadata": {
    "collapsed": false
   }
  },
  {
   "cell_type": "markdown",
   "metadata": {},
   "source": [
    "Q: en utilisant ce modèle probabiliste pour générer un mot de passe, quelle est l'entropie d'un mot de passe de 8 lettres ?"
   ]
  },
  {
   "cell_type": "code",
   "execution_count": 10,
   "metadata": {},
   "outputs": [
    {
     "name": "stdout",
     "output_type": "stream",
     "text": [
      "L'entropie pour un mot de passe de 8 lettres avec cde modèle probabiliste est minimale pour : 30.1423 bits.\n"
     ]
    }
   ],
   "source": [
    "print(f\"L'entropie pour un mot de passe de 8 lettres avec cde modèle probabiliste est minimale pour : {round(4*entropie(bigramme['frequency'].tolist()),4)} bits.\")"
   ]
  },
  {
   "cell_type": "markdown",
   "metadata": {},
   "source": [
    "Q: Pourquoi cette entropie est-elle inférieure à celle du modèle construit sur des monogrammes ? Quelle propriété théorique de l'entropie peut justifier ce constat  ?"
   ]
  },
  {
   "cell_type": "markdown",
   "metadata": {},
   "source": [
    "D'après le cours (entropie conditionnelle) on a : $H(X,Y) <= H(X) + H(Y)$ \n",
    "\n",
    "Ainsi on a $H(X,X) <= 2*H(X)$\n",
    "\n",
    "Nécessairement $4*H(X,X) <= 8*H(X)$"
   ]
  },
  {
   "cell_type": "markdown",
   "metadata": {},
   "source": [
    "Q: A l'aide de la fonction `np.random.choice()`, calculer le temps nécessaire en secondes pour tirer 100 000 mots de passes en utilisant ce générateur ?"
   ]
  },
  {
   "cell_type": "code",
   "execution_count": 11,
   "metadata": {},
   "outputs": [
    {
     "name": "stdout",
     "output_type": "stream",
     "text": [
      "Le temps nécessaire pour tirer 100 000 mots de passe est : 0.02622983455657959 s\n"
     ]
    }
   ],
   "source": [
    "# TO DO\n",
    "t_100000=0\n",
    "letters = bigramme.letters.tolist()\n",
    "proba=bigramme.frequency.tolist()\n",
    "nbEssais=100_000\n",
    "for __ in range(10):\n",
    "    t = time.time()\n",
    "    essai= np.random.choice(letters,p=proba,size=(nbEssais,4))\n",
    "    t_100000 += time.time() - t\n",
    "tempsrefBigramme = t_100000/10\n",
    "print(f\"Le temps nécessaire pour tirer 100 000 mots de passe est : {tempsrefBigramme} s\")"
   ]
  },
  {
   "cell_type": "markdown",
   "metadata": {},
   "source": [
    "Q: calculer le minorant de $G$ pour ce modèle"
   ]
  },
  {
   "cell_type": "code",
   "execution_count": 13,
   "metadata": {},
   "outputs": [
    {
     "name": "stdout",
     "output_type": "stream",
     "text": [
      "La valeur du minorant est : 296254956\n"
     ]
    }
   ],
   "source": [
    "# TO DO\n",
    "HBigramme=4*entropie(bigramme['frequency'].tolist())\n",
    "minGBigramme=(2**HBigramme/4)+1\n",
    "print(f\"La valeur du minorant est : {int(minGBigramme)}\")"
   ]
  },
  {
   "cell_type": "markdown",
   "metadata": {},
   "source": [
    "Q: combien de temps cela prendra-t-il si l'on suppose qu'il est possible de prendre le générateur codé précédemment ? (en minutes)"
   ]
  },
  {
   "cell_type": "code",
   "execution_count": 14,
   "metadata": {},
   "outputs": [
    {
     "name": "stdout",
     "output_type": "stream",
     "text": [
      "Il faut en moyenne : 1.2951197501413454 minutes \n"
     ]
    }
   ],
   "source": [
    "print(f\"Il faut en moyenne : {((tempsrefBigramme*minGBigramme)/100000)/60} minutes \")"
   ]
  },
  {
   "cell_type": "markdown",
   "metadata": {},
   "source": [
    "Q: si maintenant on change de stratégie et on tire aléatoirement chaque lettre de l'alphabet de façon uniforme, quelle est l'entropie de ce nouveau générateur ?"
   ]
  },
  {
   "cell_type": "code",
   "execution_count": 16,
   "metadata": {},
   "outputs": [
    {
     "name": "stdout",
     "output_type": "stream",
     "text": [
      "Entropie maximale car cas uniforme : 37.603517745128734 bit\n"
     ]
    }
   ],
   "source": [
    "H_unif = 8* np.log2(26)\n",
    "print(f\"Entropie maximale car cas uniforme : {H_unif} bit\")"
   ]
  },
  {
   "cell_type": "markdown",
   "metadata": {},
   "source": [
    "Q: A l'aide de la fonction `np.random.choice()`, calculer le temps nécessaire en secondes pour tirer 100 000 mots de passes en utilisant ce générateur ?"
   ]
  },
  {
   "cell_type": "code",
   "execution_count": 19,
   "metadata": {},
   "outputs": [
    {
     "name": "stdout",
     "output_type": "stream",
     "text": [
      "Le temps nécessaire pour tirer 100 000 mots de passe est : 0.047572779655456546 s\n"
     ]
    }
   ],
   "source": [
    "# TO DO\n",
    "t_100000=0\n",
    "letters = monogramme.letters.tolist()\n",
    "probaUnif=[1/26 for i in range(len(letters))]\n",
    "nbEssais=100_000\n",
    "for __ in range(10):\n",
    "    t = time.time()\n",
    "    essai= np.random.choice(letters,p=probaUnif,size=(nbEssais,12))\n",
    "    t_100000 += time.time() - t\n",
    "tempsrefUnif = t_100000/10\n",
    "print(f\"Le temps nécessaire pour tirer 100 000 mots de passe est : {tempsrefUnif} s\")"
   ]
  },
  {
   "cell_type": "markdown",
   "metadata": {},
   "source": [
    "Q: calculer le minorant de $G$ pour ce modèle"
   ]
  },
  {
   "cell_type": "code",
   "execution_count": 20,
   "metadata": {},
   "outputs": [
    {
     "name": "stdout",
     "output_type": "stream",
     "text": [
      "La valeur du minorant est : 52206766144\n"
     ]
    }
   ],
   "source": [
    "HUnif=8*entropie(probaUnif)\n",
    "minGUnif=(2**HUnif/4)+1\n",
    "print(f\"La valeur du minorant est : {int(minGUnif)}\")"
   ]
  },
  {
   "cell_type": "markdown",
   "metadata": {},
   "source": [
    "Q: dans ce cas précis, quelle est la valeur exacte de $G$?"
   ]
  },
  {
   "cell_type": "markdown",
   "metadata": {},
   "source": [
    "La valur exacte de G se calcule dans ce cas avec l'espérance du nombre de coups avant de tomber sur le mot de passe :\n",
    "$ E(X=k) = \\sum_{k=0}^{26^{8}}P(X=k)k $\n",
    "Avec $P(X=k) = \\frac{1}{26^{8}} $\n",
    "D'ou $E(X) = G = \\frac{26^{8} + 1}{2}$"
   ]
  },
  {
   "cell_type": "markdown",
   "metadata": {},
   "source": [
    "Q: combien de temps cela prendra-t-il en utilisant le générateur codé précédemment ? (en minutes)"
   ]
  },
  {
   "cell_type": "code",
   "execution_count": 21,
   "metadata": {},
   "outputs": [
    {
     "name": "stdout",
     "output_type": "stream",
     "text": [
      "Il faut en moyenne : 827.873660768118 minutes \n"
     ]
    }
   ],
   "source": [
    "GexactUnif = ((26**8)+1)/2\n",
    "print(f\"Il faut en moyenne : {((tempsrefUnif*GexactUnif)/100000)/60} minutes \")"
   ]
  },
  {
   "cell_type": "markdown",
   "metadata": {},
   "source": [
    "Q: implémenter une attaque pratique qui consiste à:\n",
    "1. **pour le défenseur:** tirer un mot de passe de 4 lettres consécutives à partir de ce texte de Victor Hugo (texteFrancais.txt) tiré des Misérables.  \n",
    "2. **pour l'attaquant:** utiliser le modèle bigramme pour générer des mots de passe et minimiser le nombre d'essais. Pour cela on pourra :\n",
    "    * dans un premier temps pré-calculer un **dictionnaire**, qui contriendra un nombre de MdP générés classés dans l'ordre du plus probable au moins probable et qui ne contient pas de doublons \n",
    "    * dans un deuxième temps appeler ce dictionnaire pour comparer chacune de ses entrées au mot de passe généré.\n",
    "3. Il faudra faire ses tests plusieurs fois afin de d'obtenir un nombre moyens d'appel au dictionnaire nécessaire\n",
    "4. Il sera intéressant de comparer le nombre trouvé à la valeur de G (qui est une borne inférieure)\n",
    "5. Question annexe: Par un simple calcul, si le générateur utilisé n'est plus ce générateur mais un générateur qui tire chaque lettre de façon équiprobable, rappeler la valeur de G. Comparer cette valeur avec la valeur trouvée en utilisant la stratégie \"des 4 lettres consécutives\"."
   ]
  },
  {
   "cell_type": "code",
   "execution_count": 20,
   "metadata": {},
   "outputs": [],
   "source": [
    "from unidecode import unidecode\n",
    "import re\n",
    "pattern = r'[^A-Za-z0-9]+'\n",
    "## Fonction générant un mot de passe\n",
    "def get_passwd():\n",
    "    text_hugo = open(\"texteFrancais.txt\",\"r\")\n",
    "    str_hugo = str(text_hugo.read())\n",
    "\n",
    "    # On remplace des lettres avec accent avec des lettres sans accent\n",
    "    str_hugo = str_hugo.replace(\"Â\", \"A\")\n",
    "    str_hugo = str_hugo.replace(\"Ù\", \"U\")\n",
    "    str_hugo = str_hugo.replace(\"Ô\", \"O\")\n",
    "    str_hugo = unidecode(str_hugo)\n",
    "    str_hugo = re.sub(pattern, '', str_hugo)\n",
    "    size_txt = len(str_hugo)\n",
    "\n",
    "    idx_rand = np.random.randint(size_txt-4)\n",
    "    #print(idx_rand)\n",
    "\n",
    "    psswd = str_hugo[idx_rand:idx_rand+4].upper()\n",
    "    return(psswd)"
   ]
  },
  {
   "cell_type": "code",
   "execution_count": 35,
   "metadata": {},
   "outputs": [],
   "source": [
    "import itertools\n",
    "\n",
    "def generate_dictionary():\n",
    "    mdp = []\n",
    "    proba = []\n",
    "    couples = list(itertools.combinations(bigramme.letters.tolist(),2))\n",
    "    probs = list(itertools.combinations(bigramme.frequency.tolist(),2))\n",
    "    for c, p in zip(couples,probs):\n",
    "        mdp.append(c[0] + c[1])\n",
    "        mdp.append(c[1] + c[0])\n",
    "        proba.append(p[0]*p[1])\n",
    "        proba.append(p[0]*p[1])\n",
    "    for i in range(len(bigramme)):\n",
    "        mdp.append(bigramme.letters.iloc[i]+bigramme.letters.iloc[i])\n",
    "        proba.append(bigramme.frequency.iloc[i]+bigramme.frequency.iloc[i])\n",
    "    return pd.DataFrame(dict(mdp=mdp, frequency=proba)).sort_values(by='frequency', ascending=False, ignore_index=True)\n",
    "\n",
    "df_dictionary = generate_dictionary()"
   ]
  },
  {
   "cell_type": "code",
   "execution_count": 38,
   "metadata": {},
   "outputs": [],
   "source": [
    "# Attaques sur 1000 mots de passes\n",
    "\n",
    "nb_trial = 1000\n",
    "vec_nb_trials = np.full(nb_trial, -1)\n",
    "for i in range(nb_trial):\n",
    "    passwrd = get_passwd()\n",
    "    try:\n",
    "        index = df_dictionary[df_dictionary['mdp'] ==passwrd].index.tolist()[0]\n",
    "        vec_nb_trials[i] = index\n",
    "    except:\n",
    "        print(passwrd)"
   ]
  },
  {
   "cell_type": "code",
   "execution_count": 40,
   "metadata": {},
   "outputs": [
    {
     "name": "stdout",
     "output_type": "stream",
     "text": [
      "En moyenne, il y a 13581.98 appels.\n"
     ]
    }
   ],
   "source": [
    "print(f\"En moyenne, il y a {np.mean(vec_nb_trials)} appels.\")"
   ]
  },
  {
   "cell_type": "code",
   "execution_count": 42,
   "metadata": {},
   "outputs": [
    {
     "data": {
      "text/plain": [
       "21812.354067782537"
      ]
     },
     "execution_count": 42,
     "metadata": {},
     "output_type": "execute_result"
    }
   ],
   "source": [
    "minGBigramme/np.mean(vec_nb_trials)"
   ]
  },
  {
   "cell_type": "markdown",
   "metadata": {},
   "source": [
    "## Conclusions \n",
    "\n",
    "- Définir des bonnes pratiques pour le défenseur, i.e. la personne cherchant à concevoir un système de génération de mots de passe ? \n",
    "L'entropie étant maximale dans le cas d'un tirage uniforme, c'est le meilleur moyen de générer un mot de passe robuste. Il faut ensuite travailler avec la longueur du mot de passe. Une longueur de 8 lettres n'est pas suffisant car le mot de passe est crackable en environ 13h. En passant à 12 lettres nous arrivons à 1000 ans ce qui rend le mot de passe non crackable. En rajoutant les lettres majuscules, les chiffres et les caractères spéciaux, on obtient un mot de passe parfait bien mieux que le mot de passe caramel par exemple.\n",
    "\n",
    "- Définir des bonnes pratiques pour l'attaquant, i.e. la personne essayant de trouver le mot de passe ?\n",
    "  Pour réduire le nombre d'appels avant de décoder un mot de passe, l'attanquant à intérêt à exploiter les aprioris que l'on peut faire sur un mot de passe à savoir  : La plupart des gens vont utiliser des mots de passe facile à retenir donc des mots de leur langue.\n",
    "  Construire sa recherche de mot de passe autour de cet apriori probabiliste permet de tester en priorité les combinaisons les plus probables.\n",
    "  (Dans le cadre de ce TP nous nous limitons à l'association de lettres)\n",
    "\n"
   ]
  },
  {
   "cell_type": "markdown",
   "metadata": {},
   "source": [
    "## Un peu de lecture\n",
    "Cet article montre comment des hackers, à partir de leaks de bases de mots de passes, peuvent rapidement arriver à trouver le votre:\n",
    "https://arstechnica.com/information-technology/2013/05/how-crackers-make-minced-meat-out-of-your-passwords/\n"
   ]
  }
 ],
 "metadata": {
  "interpreter": {
   "hash": "eb069fb33bcadbe335fc53a2831cd5738687ac76cac1d867e4dc4cbf8290b325"
  },
  "kernelspec": {
   "display_name": "Python 3.9.13 ('base')",
   "language": "python",
   "name": "python3"
  },
  "language_info": {
   "codemirror_mode": {
    "name": "ipython",
    "version": 3
   },
   "file_extension": ".py",
   "mimetype": "text/x-python",
   "name": "python",
   "nbconvert_exporter": "python",
   "pygments_lexer": "ipython3",
   "version": "3.9.13"
  },
  "vscode": {
   "interpreter": {
    "hash": "22fb3692bee311354396abce5de73f147db26a6651d0fabb33560b91bb1fb1cd"
   }
  }
 },
 "nbformat": 4,
 "nbformat_minor": 2
}
